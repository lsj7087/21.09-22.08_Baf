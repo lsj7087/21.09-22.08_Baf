{
 "cells": [
  {
   "cell_type": "code",
   "execution_count": 2,
   "metadata": {},
   "outputs": [],
   "source": [
    "import pandas as pd\n",
    "import numpy as np\n",
    "import re\n",
    "import fasttext\n",
    "from tqdm import tqdm_notebook\n",
    "from keras import layers\n",
    "from keras.layers import LSTM, Activation, Dropout, Dense, Input, Bidirectional\n",
    "from keras.layers.embeddings import Embedding\n",
    "from keras.models import Model\n",
    "from keras.callbacks import EarlyStopping,ModelCheckpoint\n",
    "import keras\n",
    "from keras.models import Sequential\n",
    "from tensorflow.keras.preprocessing.text import Tokenizer\n",
    "from tensorflow.keras.preprocessing.sequence import pad_sequences"
   ]
  },
  {
   "cell_type": "code",
   "execution_count": 42,
   "metadata": {},
   "outputs": [],
   "source": [
    "train=pd.read_csv('train_data.csv') #모델 학습 파일\n",
    "test=pd.read_csv('test_data.csv') #모델 시험지 파일\n",
    "submission=pd.read_csv('sample_submission.csv')#답안지 파일"
   ]
  },
  {
   "cell_type": "code",
   "execution_count": 122,
   "metadata": {},
   "outputs": [],
   "source": [
    "submission0=submission"
   ]
  },
  {
   "cell_type": "code",
   "execution_count": 44,
   "metadata": {},
   "outputs": [
    {
     "data": {
      "text/plain": [
       "index        0\n",
       "title        0\n",
       "topic_idx    0\n",
       "dtype: int64"
      ]
     },
     "execution_count": 44,
     "metadata": {},
     "output_type": "execute_result"
    }
   ],
   "source": [
    "train.isnull().sum() #결측치 확인"
   ]
  },
  {
   "cell_type": "code",
   "execution_count": 45,
   "metadata": {},
   "outputs": [
    {
     "data": {
      "text/plain": [
       "4    7629\n",
       "2    7362\n",
       "5    6933\n",
       "6    6751\n",
       "1    6222\n",
       "3    5933\n",
       "0    4824\n",
       "Name: topic_idx, dtype: int64"
      ]
     },
     "execution_count": 45,
     "metadata": {},
     "output_type": "execute_result"
    }
   ],
   "source": [
    "train.topic_idx.value_counts() #label 비율 확인"
   ]
  },
  {
   "cell_type": "code",
   "execution_count": null,
   "metadata": {},
   "outputs": [],
   "source": []
  },
  {
   "cell_type": "code",
   "execution_count": 46,
   "metadata": {},
   "outputs": [],
   "source": [
    "# 필요없는 단어 지우기\n",
    "def word_delete(title):\n",
    "    delete_word = [\n",
    "        \"1보\",\n",
    "        \"2보\",\n",
    "        \"3보\",\n",
    "        \"4보\",\n",
    "        \"5보\",\n",
    "        \"속보\",\n",
    "        \"사진\",\n",
    "        \"게시판\",\n",
    "        \"주말 N\",\n",
    "        \"QA\",\n",
    "        \"그래픽\",\n",
    "        \"국내\",\n",
    "        \"동정\",\n",
    "        \"속보\",\n",
    "        \"신간\",\n",
    "        \"위클리\",\n",
    "        \"주간 화제의 뉴스\",\n",
    "        \"카드뉴스\",\n",
    "        \"팩트체크\",\n",
    "    ]\n",
    "    for i in delete_word:\n",
    "        if title.endswith(i) or title.startswith(i):\n",
    "            title = title.replace(i, \"\")\n",
    "    if title.endswith(\"종합\"):\n",
    "        title = title[:-2]\n",
    "    title = title.replace(\"↑\", \" 증가\")\n",
    "    title = title.replace(\"↓\", \" 감소\")\n",
    "    title = title.replace(\"→\", \"에서 \")\n",
    "    title = title.replace(\"~\", \"에서 \")\n",
    "    title = title.replace(\"...\", \". \")\n",
    "    title = title.replace(\"·\", \" 그리고 \")\n",
    "    title = title.replace(\":\", \" 대 \")\n",
    "    title = title.upper()\n",
    "    return title\n",
    "\n",
    "\n",
    "def chinese_char(text):\n",
    "    import re\n",
    "\n",
    "    # 2단어 이상\n",
    "    text = re.sub(\"外人\", \"외국사람\", text)\n",
    "    text = re.sub(\"詩人\", \"시인\", text)\n",
    "    text = re.sub(\"日人\", \"일본사람\", text)\n",
    "    if re.search(r\"[0-9]人\", text):\n",
    "        text = re.sub(\"人\", \"명\", text)\n",
    "    text = re.sub(\"人\", \"사람\", text)\n",
    "    text = re.sub(\"中企\", \"중소기업\", text)\n",
    "    text = re.sub(\"令和\", \"\", text)\n",
    "    text = re.sub(\"不備\", \"준비 안되다.\", text)\n",
    "    text = re.sub(\"印尼\", \"인도네시아\", text)\n",
    "    text = re.sub(\"반反\", \"반대\", text)\n",
    "    text = re.sub(\"부富\", \"재산\", text)\n",
    "    text = re.sub(\"^書香萬里\", \"\", text)\n",
    "    text = re.sub(\"最古\", \"가장 오래된\", text)\n",
    "    text = re.sub(\"^社告\", \"\", text)\n",
    "    text = re.sub(\"對野\", \"야당\", text)\n",
    "    text = re.sub(\"氷魚\", \"\", text)\n",
    "    text = re.sub(\"眞朴\", \"박근혜와 친한\", text)\n",
    "    text = re.sub(\"非朴\", \"박근혜와 반대\", text)\n",
    "    text = re.sub(\"破七\", \"\", text)\n",
    "    text = re.sub(\"私黨\", \"개인의 당\", text)\n",
    "    text = re.sub(\"親朴\", \"박근혜와 친한\", text)\n",
    "    text = re.sub(\"邪敎\", \"사이비 종교\", text)\n",
    "    if re.search(\"[가-핳]銀\", text):\n",
    "        text = re.sub(\"銀\", \"은행\", text)\n",
    "    text = re.sub(\"非文\", \"문재인 반대\", text)\n",
    "    text = re.sub(\"四體\", \"\", text)\n",
    "    text = re.sub(\"潘風\", \"반기문 세력\", text)\n",
    "    text = re.sub(\"駐英\", \"영국 주재원\", text)\n",
    "    text = re.sub(\"高法\", \"고등법원\", text)\n",
    "\n",
    "    # 개별 단어\n",
    "    text = re.sub(\"丁\", \"정세균\", text)  # 사람의 성씨 지금은 정세균 국회의장 #3\n",
    "    text = re.sub(\"七\", \"칠\", text)  # 사람이름으로 사용됨 괄호 안에 #1\n",
    "    text = re.sub(\"三\", \"삼\", text)  # 3색으로 사용된 괄호 안에 #1\n",
    "    text = re.sub(\"中\", \"중국\", text)  # 중국 #771\n",
    "    text = re.sub(\"乙\", \"을\", text)  # 차선의 의미, 을말고 다른 단어를 사용하는 것이 좋아보임 #2\n",
    "    text = re.sub(\"亞\", \"아시아\", text)  # 23\n",
    "    text = re.sub(\n",
    "        \"人\", \"명\", text\n",
    "    )  # 숫자人 : 명, 한글人 : 사람(국석기人), 外人 : 외국인, 詩人 : 시인, 日人 : 일본인 #13\n",
    "    text = re.sub(\"仙\", \"선\", text)  # 神仙 : 신선 #1\n",
    "    text = re.sub(\"代\", \"대\", text)  # 대를 잇다, 숫자代 : 10대\n",
    "    text = re.sub(\"令\", \"령\", text)  # 일본 연호 레이와(令和)에 사용 #1 # 명령에도 사용\n",
    "    text = re.sub(\"企\", \"기\", text)  # 中企 : 중소기업 으로 사용됨 모두 다 #14\n",
    "    text = re.sub(\"伊\", \"이탈리아\", text)  # 127\n",
    "    text = re.sub(\"佛\", \"프랑스\", text)  # 90\n",
    "    text = re.sub(\"備\", \"비\", text)  # 不備 : 불비, 갖추지않음\n",
    "    text = re.sub(\"先\", \"먼저\", text)  # 7\n",
    "    text = re.sub(\"內\", \"안에\", text)  # 지역內 : 어디안에 #1\n",
    "    text = re.sub(\"全\", \"전체\", text)  # 3\n",
    "    text = re.sub(\"分\", \"당을 나누다.\", text)  # 당을 나누다 #3 分黨: 분당\n",
    "    text = re.sub(\"前\", \"이전\", text)  # 이전 #94\n",
    "    text = re.sub(\"北\", \"북한\", text)  # 1293\n",
    "    text = re.sub(\"千\", \"천정배\", text)  # 국민의 당 천정배 #7\n",
    "    text = re.sub(\"協\", \"협회\", text)  # 화합할 협 #2\n",
    "    text = re.sub(\"南\", \"한국\", text)  # 36\n",
    "    text = re.sub(\"印\", \"인도\", text)  # 印尼 : 인도네시아 # 8(7,1)\n",
    "    text = re.sub(\"反\", \"반대\", text)  # 반反 -> 반(反)로 추정 #52\n",
    "    text = re.sub(\"古\", \"오래된\", text)  # 最古 -> 최고 # 1\n",
    "    text = re.sub(\"史\", \"역사\", text)  # 3\n",
    "    text = re.sub(\"告\", \"고\", text)  # 社告 -> 사고(회사광고) 맨 앞에 게시판 처럼 나옴 삭제필 # 2\n",
    "    text = re.sub(\"和\", \"통합\", text)  # 1개는 통합 나머지 하나는 令和(일본 연호) # 2\n",
    "    text = re.sub(\"四\", \"4\", text)  # 四體 -> 4가지 글씨체 # 1\n",
    "    text = re.sub(\"在\", \"\", text)  # 뭔의미인지 모르겠음 在伊 -> 뜻이 안나옴 # 1\n",
    "    text = re.sub(\n",
    "        \"外\", \"외\", text\n",
    "    )  # 단독: ~외 몇건 삭제 필, 外人 : 외인 기사 맨앞(게시판)으로 사용 되거나 외국인으로 사용됨 삭제해도 무방할듯 # 24\n",
    "    text = re.sub(\"大\", \"대학교\", text)  # 大戰 : 대결, 大寒 : 절기 중 대한\n",
    "    text = re.sub(\"妻\", \"부인\", text)  # 1\n",
    "    text = re.sub(\"委\", \"워원회\", text)  # 7\n",
    "    text = re.sub(\"子\", \"아들\", text)  # 1\n",
    "    text = re.sub(\"孫\", \"손학규\", text)  # 손학규 # 14\n",
    "    text = re.sub(\"安\", \"안철수\", text)  # 안철수 # 61\n",
    "    text = re.sub(\"家\", \"집안\", text)  # 가문 주로 기업뒤에 붙어 사용 # 6\n",
    "    text = re.sub(\"富\", \"재산\", text)  # 재산 부富 -> 부(富) # 2\n",
    "    text = re.sub(\"寒\", \"한\", text)  # 절기 대한 # 1\n",
    "    text = re.sub(\"對\", \"대결\", text)  # 對野 대야 대야당 # 21\n",
    "    text = re.sub(\"小\", \"\", text)  # 작다 #1 삭제무방\n",
    "    text = re.sub(\"尹\", \"윤석열\", text)  # 윤석열 # 2\n",
    "    text = re.sub(\"尼\", \"\", text)  # 인도네시아 뒷 글자 # 2\n",
    "    text = re.sub(\"展\", \"전시회\", text)  # 19\n",
    "    text = re.sub(\"山\", \"산\", text)  # 1\n",
    "    text = re.sub(\"島\", \"섬\", text)  # 1\n",
    "    text = re.sub(\"崔\", \"최순실\", text)  # 최순실 # 4\n",
    "    text = re.sub(\"州\", \"도시\", text)  # 미국의 주, 시나 도시로 변경 # 4\n",
    "    text = re.sub(\"巨\", \"큰\", text)  # 巨野 거야(큰야당) 로 사용 # 2\n",
    "    text = re.sub(\"市\", \"도시\", text)  # 도시 # 1\n",
    "    text = re.sub(\"式\", \"방식\", text)  # 방법 # 1\n",
    "    text = re.sub(\"弗\", \"달러\", text)  # 돈, 달러 # 8\n",
    "    text = re.sub(\"强\", \"강하다\", text)  # 1\n",
    "    text = re.sub(\"後\", \"뒤\", text)  # 4\n",
    "    text = re.sub(\"心\", \"마음\", text)  # 4\n",
    "    text = re.sub(\"情\", \"정\", text)  # 1\n",
    "    text = re.sub(\"惡\", \"악\", text)  # 2\n",
    "    text = re.sub(\"戰\", \"전투\", text)  # 大戰로 사용됨 모두 # 2\n",
    "    text = re.sub(\"政\", \"정부\", text)  # 1\n",
    "    text = re.sub(\"故\", \"\", text)  # 죽은 사람 삭제해도 될듯 # 25\n",
    "    text = re.sub(\"敎\", \"종교\", text)  # 1\n",
    "    text = re.sub(\"文\", \"문재인\", text)  # 181\n",
    "    text = re.sub(\"料\", \"요금\", text)  # 1\n",
    "    text = re.sub(\"新\", \"새로운\", text)  # 17\n",
    "    text = re.sub(\"日\", \"일본\", text)  # 460\n",
    "    text = re.sub(\"書\", \"서\", text)  # 書香萬里 로 기사 제목 앞에 사용됨(게시판) # 2\n",
    "    text = re.sub(\n",
    "        \"曺\", \"조국 법무부장관\", text\n",
    "    )  # 조국 # 11 조국이라는 이름이 나라라는 뜻이 있을 수 있어 다른 방법의 치환이 필요해 보임\n",
    "    text = re.sub(\"最\", \"최\", text)  # 最古 # 1\n",
    "    text = re.sub(\"月\", \"한 달\", text)  # 5\n",
    "    text = re.sub(\"朴\", \"박근혜\", text)  # 박근혜 # 659\n",
    "    text = re.sub(\"株\", \"주식\", text)  # 18\n",
    "    text = re.sub(\"核\", \"핵폭탄\", text)  # 3\n",
    "    text = re.sub(\"案\", \"안건\", text)  # 2\n",
    "    text = re.sub(\"機\", \"기계\", text)  # 1\n",
    "    text = re.sub(\"檢\", \"검찰\", text)  # 73\n",
    "    text = re.sub(\"比\", \"대비\", text)  # 12\n",
    "    text = re.sub(\"氣\", \"기\", text)  # 2\n",
    "    text = re.sub(\"氷\", \"빙\", text)  # 氷魚 삭제해도 될듯 # 1\n",
    "    text = re.sub(\"江\", \"강\", text)  # 1\n",
    "    text = re.sub(\"法\", \"법\", text)  # 7\n",
    "    text = re.sub(\"洪\", \"홍경영\", text)  # 정치인 # 2\n",
    "    text = re.sub(\"海\", \"해\", text)  # 西海 서해 # 1\n",
    "    text = re.sub(\"港\", \"항구\", text)  # 1\n",
    "    text = re.sub(\"湖\", \"호수\", text)  # 1\n",
    "    text = re.sub(\"潘\", \"반기문\", text)  # 8\n",
    "    text = re.sub(\"無\", \"없다\", text)  # 9\n",
    "    text = re.sub(\"煎\", \"전\", text)  # 花煎 화전 # 1 삭제\n",
    "    text = re.sub(\"燈\", \"조명\", text)  # 2\n",
    "    text = re.sub(\"父\", \"아버지\", text)  # 3\n",
    "    text = re.sub(\"獨\", \"독일\", text)  # 137\n",
    "    text = re.sub(\"王\", \"왕\", text)  # 1\n",
    "    text = re.sub(\"現\", \"현재\", text)  # 1\n",
    "    text = re.sub(\"生\", \"삶\", text)  # 1\n",
    "    text = re.sub(\"申\", \"신\", text)  # 2 # 삭제도 가능\n",
    "    text = re.sub(\"男\", \"남자\", text)  # 11\n",
    "    text = re.sub(\"發\", \"발생\", text)  # 7\n",
    "    text = re.sub(\"百\", \"백화점\", text)  # 6\n",
    "    text = re.sub(\"眞\", \"진\", text)  # 眞朴 : 박근혜와 친한, 非朴 # 박근혜 반대 # 2\n",
    "    text = re.sub(\"知\", \"\", text)  # 1 # 삭제\n",
    "    text = re.sub(\"破\", \"포\", text)  # 破七 사람이름 삭제 # 1\n",
    "    text = re.sub(\"硏\", \"연구소\", text)  # 27\n",
    "    text = re.sub(\"社\", \"회사\", text)  # 社告 는 삭제 # 5\n",
    "    text = re.sub(\"神\", \"신\", text)  # 神仙 # 1\n",
    "    text = re.sub(\"禹\", \"우병우\", text)  # 정치인 11\n",
    "    text = re.sub(\"私\", \"사\", text)  # 사적인 私黨: 사당 개인의 당 # 1\n",
    "    text = re.sub(\"秋\", \"추미애\", text)  # 정치인 # 9\n",
    "    text = re.sub(\"稅\", \"세금\", text)  # 1\n",
    "    text = re.sub(\"空\", \"공\", text)  # 空約 공약 # 1\n",
    "    text = re.sub(\"童\", \"동\", text)  # 아이 童心 동심 # 1\n",
    "    text = re.sub(\"約\", \"약\", text)  # 空約 공약 # 1\n",
    "    text = re.sub(\"美\", \"미국\", text)  # 1467\n",
    "    text = re.sub(\"脫\", \"벗어난\", text)  # 탈 # 3\n",
    "    text = re.sub(\"臺\", \"대만\", text)  # 1\n",
    "    text = re.sub(\"與\", \"여당\", text)  # 290\n",
    "    text = re.sub(\"舊\", \"구\", text)  # 예전 # 1\n",
    "    text = re.sub(\"色\", \"색\", text)  # 5\n",
    "    text = re.sub(\"花\", \"화\", text)  # 삭제 화전\n",
    "    text = re.sub(\"英\", \"영국\", text)  # 283\n",
    "    text = re.sub(\"茶\", \"차\", text)  # 삭제 # 1\n",
    "    text = re.sub(\"萬\", \"만\", text)  # 書香萬里 삭제\n",
    "    text = re.sub(\"號\", \"팀\", text)  # 12\n",
    "    text = re.sub(\"行\", \"행\", text)  # 삭제도 가능 할 듯 # 44\n",
    "    text = re.sub(\"西\", \"서\", text)  # 西海 서해 1\n",
    "    text = re.sub(\"親\", \"친한\", text)  # 親朴 친박 친한 박근혜 # 13\n",
    "    text = re.sub(\"詩\", \"시\", text)  # 시조 도 좋을 듯 # 14\n",
    "    text = re.sub(\"誌\", \"지\", text)  # 1\n",
    "    text = re.sub(\"說\", \"가설\", text)  # 1\n",
    "    text = re.sub(\"論\", \"논의\", text)  # 2\n",
    "    text = re.sub(\"證\", \"증권\", text)  # 7\n",
    "    text = re.sub(\"賞\", \"상\", text)  # 1\n",
    "    text = re.sub(\"趙\", \"조윤선\", text)  # 정치인 # 1\n",
    "    text = re.sub(\"車\", \"자동차\", text)  # 14\n",
    "    text = re.sub(\"軍\", \"군대\", text)  # 69\n",
    "    text = re.sub(\"通\", \"통화\", text)  # 1\n",
    "    text = re.sub(\"道\", \"도로\", text)  # 1\n",
    "    text = re.sub(\"選\", \"선별\", text)  #  1\n",
    "    text = re.sub(\"邪\", \"사\", text)  # 邪敎 사이비 종교\n",
    "    text = re.sub(\"鄭\", \"정진석\", text)  # 정치인 # 1\n",
    "    text = re.sub(\"酒\", \"주\", text)  # 삭제 # 1\n",
    "    text = re.sub(\"醫\", \"의사 협회\", text)  # 1\n",
    "    text = re.sub(\"里\", \"리\", text)  # 書香萬里 삭제 # 2\n",
    "    text = re.sub(\"重\", \"중공업\", text)  # 18\n",
    "    text = re.sub(\"野\", \"야당\", text)  # 180\n",
    "    text = re.sub(\"金\", \"김정은\", text)  # 북한 머리 # 12\n",
    "    text = re.sub(\"銀\", \"은메달\", text)  # 18 # 은행 하나銀, 은메달 銀\n",
    "    text = re.sub(\"銅\", \"동메달\", text)  # 2\n",
    "    text = re.sub(\"阿\", \"아시아\", text)  # 2\n",
    "    text = re.sub(\"院\", \"구성원\", text)  # 2\n",
    "    text = re.sub(\"靑\", \"청와대\", text)  # 377\n",
    "    text = re.sub(\"非\", \"아닌\", text)  # 非文 : 문제인 반대, 非朴 : 박근혜 반대\n",
    "    text = re.sub(\"韓\", \"한국\", text)  # 109\n",
    "    text = re.sub(\"風\", \"세력\", text)  # 潘風 : 반기문 세력, # 6\n",
    "    text = re.sub(\"香\", \"\", text)  # 書香萬里 삭제 # 2\n",
    "    text = re.sub(\"駐\", \"주재원\", text)  # 駐英 : 영국 주재원 # 8\n",
    "    text = re.sub(\"體\", \"체\", text)  # 四體 삭제 # 1\n",
    "    text = re.sub(\"高\", \"높은\", text)  # 高法 : 고등법원 # 3\n",
    "    text = re.sub(\"魚\", \"어\", text)  # 빙어 삭제 # 1\n",
    "    text = re.sub(\"黃\", \"황교안\", text)  # 정치인 # 16\n",
    "    text = re.sub(\"黨\", \"정당\", text)  # 13\n",
    "    return text\n",
    "\n",
    "\n",
    "# 불필요한 텍스트 제거\n",
    "def clean_text(title):\n",
    "    title_clean = re.sub(\"[^가-힣ㄱ-ㅎㅏ-ㅣa-zA-Z0-9\\\\s.%]\", \" \", title)\n",
    "    title_clean = re.sub(\" +\", \" \", title_clean)\n",
    "    title_clean = title_clean.strip()\n",
    "    return title_clean\n",
    "\n",
    "\n",
    "def word_eda(title):\n",
    "    title = word_delete(title)\n",
    "    title = chinese_char(title)\n",
    "    title = clean_text(title)\n",
    "    return title"
   ]
  },
  {
   "cell_type": "code",
   "execution_count": 47,
   "metadata": {},
   "outputs": [],
   "source": [
    "train2=train"
   ]
  },
  {
   "cell_type": "code",
   "execution_count": 48,
   "metadata": {},
   "outputs": [],
   "source": [
    "train2[\"title\"] = train2[\"title\"].apply(word_eda) #단어 바꾸기, 필요없는 단어 삭제"
   ]
  },
  {
   "cell_type": "code",
   "execution_count": 49,
   "metadata": {},
   "outputs": [
    {
     "data": {
      "text/html": [
       "<div>\n",
       "<style scoped>\n",
       "    .dataframe tbody tr th:only-of-type {\n",
       "        vertical-align: middle;\n",
       "    }\n",
       "\n",
       "    .dataframe tbody tr th {\n",
       "        vertical-align: top;\n",
       "    }\n",
       "\n",
       "    .dataframe thead th {\n",
       "        text-align: right;\n",
       "    }\n",
       "</style>\n",
       "<table border=\"1\" class=\"dataframe\">\n",
       "  <thead>\n",
       "    <tr style=\"text-align: right;\">\n",
       "      <th></th>\n",
       "      <th>index</th>\n",
       "      <th>title</th>\n",
       "      <th>topic_idx</th>\n",
       "    </tr>\n",
       "  </thead>\n",
       "  <tbody>\n",
       "    <tr>\n",
       "      <th>0</th>\n",
       "      <td>0</td>\n",
       "      <td>인천에서 핀란드 항공기 결항 휴가철 여행객 분통</td>\n",
       "      <td>4</td>\n",
       "    </tr>\n",
       "    <tr>\n",
       "      <th>1</th>\n",
       "      <td>1</td>\n",
       "      <td>실리콘밸리 넘어서겠다 구글 15조원 들여 미국전역 거점화</td>\n",
       "      <td>4</td>\n",
       "    </tr>\n",
       "    <tr>\n",
       "      <th>2</th>\n",
       "      <td>2</td>\n",
       "      <td>이란 외무 긴장완화 해결책은 미국이 경제전쟁 멈추는 것</td>\n",
       "      <td>4</td>\n",
       "    </tr>\n",
       "    <tr>\n",
       "      <th>3</th>\n",
       "      <td>3</td>\n",
       "      <td>NYT 클린턴 측근한국기업 특수관계 조명 공과 사 맞물려</td>\n",
       "      <td>4</td>\n",
       "    </tr>\n",
       "    <tr>\n",
       "      <th>4</th>\n",
       "      <td>4</td>\n",
       "      <td>시진핑 트럼프에 중미 무역협상 조속 타결 희망</td>\n",
       "      <td>4</td>\n",
       "    </tr>\n",
       "    <tr>\n",
       "      <th>5</th>\n",
       "      <td>5</td>\n",
       "      <td>팔레스타인 가자지구서 16세 소년 이스라엘군 총격에 사망</td>\n",
       "      <td>4</td>\n",
       "    </tr>\n",
       "    <tr>\n",
       "      <th>6</th>\n",
       "      <td>6</td>\n",
       "      <td>인도 48년 만에 파키스탄 공습 테러 캠프 폭격</td>\n",
       "      <td>4</td>\n",
       "    </tr>\n",
       "    <tr>\n",
       "      <th>7</th>\n",
       "      <td>7</td>\n",
       "      <td>미국대선 TV토론 음담패설 만회실패 트럼프 사과 대신 빌클린턴 공격해 역효과</td>\n",
       "      <td>4</td>\n",
       "    </tr>\n",
       "    <tr>\n",
       "      <th>8</th>\n",
       "      <td>8</td>\n",
       "      <td>푸틴 한반도 상황 진전 위한 방안 김정은 위원장과 논의</td>\n",
       "      <td>4</td>\n",
       "    </tr>\n",
       "  </tbody>\n",
       "</table>\n",
       "</div>"
      ],
      "text/plain": [
       "   index                                       title  topic_idx\n",
       "0      0                  인천에서 핀란드 항공기 결항 휴가철 여행객 분통          4\n",
       "1      1             실리콘밸리 넘어서겠다 구글 15조원 들여 미국전역 거점화          4\n",
       "2      2              이란 외무 긴장완화 해결책은 미국이 경제전쟁 멈추는 것          4\n",
       "3      3             NYT 클린턴 측근한국기업 특수관계 조명 공과 사 맞물려          4\n",
       "4      4                   시진핑 트럼프에 중미 무역협상 조속 타결 희망          4\n",
       "5      5             팔레스타인 가자지구서 16세 소년 이스라엘군 총격에 사망          4\n",
       "6      6                  인도 48년 만에 파키스탄 공습 테러 캠프 폭격          4\n",
       "7      7  미국대선 TV토론 음담패설 만회실패 트럼프 사과 대신 빌클린턴 공격해 역효과          4\n",
       "8      8              푸틴 한반도 상황 진전 위한 방안 김정은 위원장과 논의          4"
      ]
     },
     "execution_count": 49,
     "metadata": {},
     "output_type": "execute_result"
    }
   ],
   "source": [
    "train2.head(9)"
   ]
  },
  {
   "cell_type": "code",
   "execution_count": 50,
   "metadata": {},
   "outputs": [],
   "source": [
    "from konlpy.tag import *\n",
    "okt = Okt()\n",
    "hannanum=Hannanum()"
   ]
  },
  {
   "cell_type": "code",
   "execution_count": 51,
   "metadata": {},
   "outputs": [],
   "source": [
    "train3=train2"
   ]
  },
  {
   "cell_type": "code",
   "execution_count": 52,
   "metadata": {},
   "outputs": [],
   "source": [
    "# 조사, 어미, 구두점 제거\n",
    "def func(text):\n",
    "    clean = []\n",
    "    for word in okt.pos(text, stem=True): #어간 추출\n",
    "        if word[1] not in ['Josa', 'Eomi', 'Punctuation']: #조사, 어미, 구두점 제외 \n",
    "            clean.append(word[0])\n",
    "    \n",
    "    \n",
    "    return \" \".join(clean) \n",
    "\n",
    "train3['title'] = train3['title'].apply(lambda x : func(x)) #train3는 조사, 어미, 구두점 제거"
   ]
  },
  {
   "cell_type": "code",
   "execution_count": 53,
   "metadata": {},
   "outputs": [],
   "source": [
    "import re\n",
    "from konlpy.tag import Okt,Mecab\n",
    "from sklearn.feature_extraction.text import TfidfVectorizer\n",
    "from sklearn.model_selection import train_test_split\n",
    "from sklearn.model_selection import StratifiedKFold\n",
    "from sklearn.metrics import accuracy_score,f1_score\n",
    "from lightgbm import LGBMClassifier\n",
    "\n",
    "from konlpy.tag import Okt\n",
    "from konlpy.tag import Kkma\n",
    "\n",
    "okt = Okt()\n",
    "kkma = Kkma()"
   ]
  },
  {
   "cell_type": "code",
   "execution_count": 54,
   "metadata": {},
   "outputs": [
    {
     "name": "stdout",
     "output_type": "stream",
     "text": [
      "Requirement already satisfied: lightgbm in c:\\users\\lsj70\\anaconda3\\lib\\site-packages (3.3.2)\n",
      "Requirement already satisfied: wheel in c:\\users\\lsj70\\anaconda3\\lib\\site-packages (from lightgbm) (0.36.2)\n",
      "Requirement already satisfied: numpy in c:\\users\\lsj70\\anaconda3\\lib\\site-packages (from lightgbm) (1.16.6)\n",
      "Requirement already satisfied: scikit-learn!=0.22.0 in c:\\users\\lsj70\\anaconda3\\lib\\site-packages (from lightgbm) (0.24.1)\n",
      "Requirement already satisfied: scipy in c:\\users\\lsj70\\anaconda3\\lib\\site-packages (from lightgbm) (1.6.2)\n",
      "Requirement already satisfied: joblib>=0.11 in c:\\users\\lsj70\\anaconda3\\lib\\site-packages (from scikit-learn!=0.22.0->lightgbm) (1.0.1)\n",
      "Requirement already satisfied: threadpoolctl>=2.0.0 in c:\\users\\lsj70\\anaconda3\\lib\\site-packages (from scikit-learn!=0.22.0->lightgbm) (2.1.0)\n"
     ]
    }
   ],
   "source": [
    "!pip install lightgbm"
   ]
  },
  {
   "cell_type": "code",
   "execution_count": 55,
   "metadata": {
    "scrolled": true
   },
   "outputs": [
    {
     "data": {
      "text/html": [
       "<div>\n",
       "<style scoped>\n",
       "    .dataframe tbody tr th:only-of-type {\n",
       "        vertical-align: middle;\n",
       "    }\n",
       "\n",
       "    .dataframe tbody tr th {\n",
       "        vertical-align: top;\n",
       "    }\n",
       "\n",
       "    .dataframe thead th {\n",
       "        text-align: right;\n",
       "    }\n",
       "</style>\n",
       "<table border=\"1\" class=\"dataframe\">\n",
       "  <thead>\n",
       "    <tr style=\"text-align: right;\">\n",
       "      <th></th>\n",
       "      <th>index</th>\n",
       "      <th>title</th>\n",
       "      <th>topic_idx</th>\n",
       "    </tr>\n",
       "  </thead>\n",
       "  <tbody>\n",
       "    <tr>\n",
       "      <th>0</th>\n",
       "      <td>0</td>\n",
       "      <td>인천 핀란드 항공기 결항 휴가 철 여행객 분통</td>\n",
       "      <td>4</td>\n",
       "    </tr>\n",
       "    <tr>\n",
       "      <th>1</th>\n",
       "      <td>1</td>\n",
       "      <td>실리콘밸리 넘어서다 구글 15조원 들이다 미국 전역 거점 화</td>\n",
       "      <td>4</td>\n",
       "    </tr>\n",
       "    <tr>\n",
       "      <th>2</th>\n",
       "      <td>2</td>\n",
       "      <td>이란 외무 긴장 완화 해결 책 미국 경제 전쟁 멈추다 것</td>\n",
       "      <td>4</td>\n",
       "    </tr>\n",
       "    <tr>\n",
       "      <th>3</th>\n",
       "      <td>3</td>\n",
       "      <td>NYT 클린턴 측근 한국 기업 특수 관계 조명 공과 사 맞다 물리다</td>\n",
       "      <td>4</td>\n",
       "    </tr>\n",
       "    <tr>\n",
       "      <th>4</th>\n",
       "      <td>4</td>\n",
       "      <td>시진핑 트럼프 중미 무역 협상 조속 타결 희망</td>\n",
       "      <td>4</td>\n",
       "    </tr>\n",
       "    <tr>\n",
       "      <th>5</th>\n",
       "      <td>5</td>\n",
       "      <td>팔레스타인 가자지구 16 세 소년 이스라엘군 총격 사망</td>\n",
       "      <td>4</td>\n",
       "    </tr>\n",
       "    <tr>\n",
       "      <th>6</th>\n",
       "      <td>6</td>\n",
       "      <td>인도 48년 파키스탄 공습 테러 캠프 폭격</td>\n",
       "      <td>4</td>\n",
       "    </tr>\n",
       "    <tr>\n",
       "      <th>7</th>\n",
       "      <td>7</td>\n",
       "      <td>미국 대선 TV 토론 음담패설 만회 실패 트럼프 사과 대신 빌다 클린턴 공격 하다 역효과</td>\n",
       "      <td>4</td>\n",
       "    </tr>\n",
       "    <tr>\n",
       "      <th>8</th>\n",
       "      <td>8</td>\n",
       "      <td>푸틴 한반도 상황 진전 위 방안 김정은 위원장 논의</td>\n",
       "      <td>4</td>\n",
       "    </tr>\n",
       "  </tbody>\n",
       "</table>\n",
       "</div>"
      ],
      "text/plain": [
       "   index                                              title  topic_idx\n",
       "0      0                          인천 핀란드 항공기 결항 휴가 철 여행객 분통          4\n",
       "1      1                  실리콘밸리 넘어서다 구글 15조원 들이다 미국 전역 거점 화          4\n",
       "2      2                    이란 외무 긴장 완화 해결 책 미국 경제 전쟁 멈추다 것          4\n",
       "3      3              NYT 클린턴 측근 한국 기업 특수 관계 조명 공과 사 맞다 물리다          4\n",
       "4      4                          시진핑 트럼프 중미 무역 협상 조속 타결 희망          4\n",
       "5      5                     팔레스타인 가자지구 16 세 소년 이스라엘군 총격 사망          4\n",
       "6      6                            인도 48년 파키스탄 공습 테러 캠프 폭격          4\n",
       "7      7  미국 대선 TV 토론 음담패설 만회 실패 트럼프 사과 대신 빌다 클린턴 공격 하다 역효과          4\n",
       "8      8                       푸틴 한반도 상황 진전 위 방안 김정은 위원장 논의          4"
      ]
     },
     "execution_count": 55,
     "metadata": {},
     "output_type": "execute_result"
    }
   ],
   "source": [
    "train3.head(9)"
   ]
  },
  {
   "cell_type": "code",
   "execution_count": null,
   "metadata": {},
   "outputs": [],
   "source": [
    "for i in range(len(train3)):\n",
    "    print(okt.morphs(train3.iloc[i,1]))"
   ]
  },
  {
   "cell_type": "code",
   "execution_count": null,
   "metadata": {},
   "outputs": [],
   "source": [
    "for i in range(len(train3)):\n",
    "    print(okt.nouns(train3.iloc[i,1]))"
   ]
  },
  {
   "cell_type": "code",
   "execution_count": null,
   "metadata": {},
   "outputs": [],
   "source": [
    "for i in range(len(train)):\n",
    "    print(okt.pos(train3.iloc[i,1]))"
   ]
  },
  {
   "cell_type": "code",
   "execution_count": null,
   "metadata": {},
   "outputs": [],
   "source": []
  },
  {
   "cell_type": "code",
   "execution_count": 59,
   "metadata": {},
   "outputs": [],
   "source": [
    "train4=train3 #train4는 train3에서 토큰화"
   ]
  },
  {
   "cell_type": "code",
   "execution_count": 60,
   "metadata": {
    "scrolled": true
   },
   "outputs": [
    {
     "data": {
      "text/html": [
       "<div>\n",
       "<style scoped>\n",
       "    .dataframe tbody tr th:only-of-type {\n",
       "        vertical-align: middle;\n",
       "    }\n",
       "\n",
       "    .dataframe tbody tr th {\n",
       "        vertical-align: top;\n",
       "    }\n",
       "\n",
       "    .dataframe thead th {\n",
       "        text-align: right;\n",
       "    }\n",
       "</style>\n",
       "<table border=\"1\" class=\"dataframe\">\n",
       "  <thead>\n",
       "    <tr style=\"text-align: right;\">\n",
       "      <th></th>\n",
       "      <th>index</th>\n",
       "      <th>title</th>\n",
       "      <th>topic_idx</th>\n",
       "    </tr>\n",
       "  </thead>\n",
       "  <tbody>\n",
       "    <tr>\n",
       "      <th>0</th>\n",
       "      <td>0</td>\n",
       "      <td>인천 핀란드 항공기 결항 휴가 철 여행객 분통</td>\n",
       "      <td>4</td>\n",
       "    </tr>\n",
       "    <tr>\n",
       "      <th>1</th>\n",
       "      <td>1</td>\n",
       "      <td>실리콘밸리 넘어서다 구글 15조원 들이다 미국 전역 거점 화</td>\n",
       "      <td>4</td>\n",
       "    </tr>\n",
       "    <tr>\n",
       "      <th>2</th>\n",
       "      <td>2</td>\n",
       "      <td>이란 외무 긴장 완화 해결 책 미국 경제 전쟁 멈추다 것</td>\n",
       "      <td>4</td>\n",
       "    </tr>\n",
       "    <tr>\n",
       "      <th>3</th>\n",
       "      <td>3</td>\n",
       "      <td>NYT 클린턴 측근 한국 기업 특수 관계 조명 공과 사 맞다 물리다</td>\n",
       "      <td>4</td>\n",
       "    </tr>\n",
       "    <tr>\n",
       "      <th>4</th>\n",
       "      <td>4</td>\n",
       "      <td>시진핑 트럼프 중미 무역 협상 조속 타결 희망</td>\n",
       "      <td>4</td>\n",
       "    </tr>\n",
       "    <tr>\n",
       "      <th>...</th>\n",
       "      <td>...</td>\n",
       "      <td>...</td>\n",
       "      <td>...</td>\n",
       "    </tr>\n",
       "    <tr>\n",
       "      <th>45649</th>\n",
       "      <td>45649</td>\n",
       "      <td>KB 금융 미국 IB 스티펠 제휴 선진국 시장 공략</td>\n",
       "      <td>1</td>\n",
       "    </tr>\n",
       "    <tr>\n",
       "      <th>45650</th>\n",
       "      <td>45650</td>\n",
       "      <td>서울시 교육청 신종 코로나 확산 개학 연기 그리고 휴업 검토</td>\n",
       "      <td>2</td>\n",
       "    </tr>\n",
       "    <tr>\n",
       "      <th>45651</th>\n",
       "      <td>45651</td>\n",
       "      <td>키우다 증권 2020 키우다 영웅 전 실전 투자 대회</td>\n",
       "      <td>1</td>\n",
       "    </tr>\n",
       "    <tr>\n",
       "      <th>45652</th>\n",
       "      <td>45652</td>\n",
       "      <td>답변 하다 배 기동 국립 중앙 박물관 장</td>\n",
       "      <td>2</td>\n",
       "    </tr>\n",
       "    <tr>\n",
       "      <th>45653</th>\n",
       "      <td>45653</td>\n",
       "      <td>2020 한국 인터넷 기자 상 시상식 내달 1일 개최 특별상 김성후</td>\n",
       "      <td>2</td>\n",
       "    </tr>\n",
       "  </tbody>\n",
       "</table>\n",
       "<p>45654 rows × 3 columns</p>\n",
       "</div>"
      ],
      "text/plain": [
       "       index                                  title  topic_idx\n",
       "0          0              인천 핀란드 항공기 결항 휴가 철 여행객 분통          4\n",
       "1          1      실리콘밸리 넘어서다 구글 15조원 들이다 미국 전역 거점 화          4\n",
       "2          2        이란 외무 긴장 완화 해결 책 미국 경제 전쟁 멈추다 것          4\n",
       "3          3  NYT 클린턴 측근 한국 기업 특수 관계 조명 공과 사 맞다 물리다          4\n",
       "4          4              시진핑 트럼프 중미 무역 협상 조속 타결 희망          4\n",
       "...      ...                                    ...        ...\n",
       "45649  45649           KB 금융 미국 IB 스티펠 제휴 선진국 시장 공략          1\n",
       "45650  45650      서울시 교육청 신종 코로나 확산 개학 연기 그리고 휴업 검토          2\n",
       "45651  45651          키우다 증권 2020 키우다 영웅 전 실전 투자 대회          1\n",
       "45652  45652                 답변 하다 배 기동 국립 중앙 박물관 장          2\n",
       "45653  45653  2020 한국 인터넷 기자 상 시상식 내달 1일 개최 특별상 김성후          2\n",
       "\n",
       "[45654 rows x 3 columns]"
      ]
     },
     "execution_count": 60,
     "metadata": {},
     "output_type": "execute_result"
    }
   ],
   "source": [
    "train4"
   ]
  },
  {
   "cell_type": "code",
   "execution_count": 61,
   "metadata": {},
   "outputs": [
    {
     "data": {
      "text/html": [
       "<div>\n",
       "<style scoped>\n",
       "    .dataframe tbody tr th:only-of-type {\n",
       "        vertical-align: middle;\n",
       "    }\n",
       "\n",
       "    .dataframe tbody tr th {\n",
       "        vertical-align: top;\n",
       "    }\n",
       "\n",
       "    .dataframe thead th {\n",
       "        text-align: right;\n",
       "    }\n",
       "</style>\n",
       "<table border=\"1\" class=\"dataframe\">\n",
       "  <thead>\n",
       "    <tr style=\"text-align: right;\">\n",
       "      <th></th>\n",
       "      <th>index</th>\n",
       "      <th>title</th>\n",
       "    </tr>\n",
       "  </thead>\n",
       "  <tbody>\n",
       "    <tr>\n",
       "      <th>0</th>\n",
       "      <td>45654</td>\n",
       "      <td>유튜브 내달 2일까지 크리에이터 지원 공간 운영</td>\n",
       "    </tr>\n",
       "    <tr>\n",
       "      <th>1</th>\n",
       "      <td>45655</td>\n",
       "      <td>어버이날 맑다가 흐려져…남부지방 옅은 황사</td>\n",
       "    </tr>\n",
       "    <tr>\n",
       "      <th>2</th>\n",
       "      <td>45656</td>\n",
       "      <td>내년부터 국가RD 평가 때 논문건수는 반영 않는다</td>\n",
       "    </tr>\n",
       "    <tr>\n",
       "      <th>3</th>\n",
       "      <td>45657</td>\n",
       "      <td>김명자 신임 과총 회장 원로와 젊은 과학자 지혜 모을 것</td>\n",
       "    </tr>\n",
       "    <tr>\n",
       "      <th>4</th>\n",
       "      <td>45658</td>\n",
       "      <td>회색인간 작가 김동식 양심고백 등 새 소설집 2권 출간</td>\n",
       "    </tr>\n",
       "    <tr>\n",
       "      <th>...</th>\n",
       "      <td>...</td>\n",
       "      <td>...</td>\n",
       "    </tr>\n",
       "    <tr>\n",
       "      <th>9126</th>\n",
       "      <td>54780</td>\n",
       "      <td>인천 오후 3시35분 대설주의보…눈 3.1cm 쌓여</td>\n",
       "    </tr>\n",
       "    <tr>\n",
       "      <th>9127</th>\n",
       "      <td>54781</td>\n",
       "      <td>노래방에서 지인 성추행 외교부 사무관 불구속 입건종합</td>\n",
       "    </tr>\n",
       "    <tr>\n",
       "      <th>9128</th>\n",
       "      <td>54782</td>\n",
       "      <td>40년 전 부마항쟁 부산 시위 사진 2점 최초 공개</td>\n",
       "    </tr>\n",
       "    <tr>\n",
       "      <th>9129</th>\n",
       "      <td>54783</td>\n",
       "      <td>게시판 아리랑TV 아프리카개발은행 총회 개회식 생중계</td>\n",
       "    </tr>\n",
       "    <tr>\n",
       "      <th>9130</th>\n",
       "      <td>54784</td>\n",
       "      <td>유영민 과기장관 강소특구는 지역 혁신의 중심…지원책 강구</td>\n",
       "    </tr>\n",
       "  </tbody>\n",
       "</table>\n",
       "<p>9131 rows × 2 columns</p>\n",
       "</div>"
      ],
      "text/plain": [
       "      index                            title\n",
       "0     45654       유튜브 내달 2일까지 크리에이터 지원 공간 운영\n",
       "1     45655          어버이날 맑다가 흐려져…남부지방 옅은 황사\n",
       "2     45656      내년부터 국가RD 평가 때 논문건수는 반영 않는다\n",
       "3     45657  김명자 신임 과총 회장 원로와 젊은 과학자 지혜 모을 것\n",
       "4     45658   회색인간 작가 김동식 양심고백 등 새 소설집 2권 출간\n",
       "...     ...                              ...\n",
       "9126  54780     인천 오후 3시35분 대설주의보…눈 3.1cm 쌓여\n",
       "9127  54781    노래방에서 지인 성추행 외교부 사무관 불구속 입건종합\n",
       "9128  54782     40년 전 부마항쟁 부산 시위 사진 2점 최초 공개\n",
       "9129  54783    게시판 아리랑TV 아프리카개발은행 총회 개회식 생중계\n",
       "9130  54784  유영민 과기장관 강소특구는 지역 혁신의 중심…지원책 강구\n",
       "\n",
       "[9131 rows x 2 columns]"
      ]
     },
     "execution_count": 61,
     "metadata": {},
     "output_type": "execute_result"
    }
   ],
   "source": [
    "test"
   ]
  },
  {
   "cell_type": "code",
   "execution_count": 62,
   "metadata": {},
   "outputs": [
    {
     "data": {
      "text/html": [
       "<div>\n",
       "<style scoped>\n",
       "    .dataframe tbody tr th:only-of-type {\n",
       "        vertical-align: middle;\n",
       "    }\n",
       "\n",
       "    .dataframe tbody tr th {\n",
       "        vertical-align: top;\n",
       "    }\n",
       "\n",
       "    .dataframe thead th {\n",
       "        text-align: right;\n",
       "    }\n",
       "</style>\n",
       "<table border=\"1\" class=\"dataframe\">\n",
       "  <thead>\n",
       "    <tr style=\"text-align: right;\">\n",
       "      <th></th>\n",
       "      <th>index</th>\n",
       "      <th>title</th>\n",
       "    </tr>\n",
       "  </thead>\n",
       "  <tbody>\n",
       "    <tr>\n",
       "      <th>0</th>\n",
       "      <td>45654</td>\n",
       "      <td>유튜브 내달 2일 까지 크리에이터 지원 공간 운영</td>\n",
       "    </tr>\n",
       "    <tr>\n",
       "      <th>1</th>\n",
       "      <td>45655</td>\n",
       "      <td>어버이날 맑다 흐려지다 남부 지방 옅다 황사</td>\n",
       "    </tr>\n",
       "    <tr>\n",
       "      <th>2</th>\n",
       "      <td>45656</td>\n",
       "      <td>내년 국가 RD 평가 때 논문 건수 반영 않다</td>\n",
       "    </tr>\n",
       "    <tr>\n",
       "      <th>3</th>\n",
       "      <td>45657</td>\n",
       "      <td>김명자 신임 과총 회장 원로 젊다 과학자 지혜 모으다 것</td>\n",
       "    </tr>\n",
       "    <tr>\n",
       "      <th>4</th>\n",
       "      <td>45658</td>\n",
       "      <td>회색 인간 작가 김 동식 양심 고백 등 새 소설 집 2 권 추다 간</td>\n",
       "    </tr>\n",
       "    <tr>\n",
       "      <th>...</th>\n",
       "      <td>...</td>\n",
       "      <td>...</td>\n",
       "    </tr>\n",
       "    <tr>\n",
       "      <th>9126</th>\n",
       "      <td>54780</td>\n",
       "      <td>인천 오후 3시 35분 대설주의보 눈 3.1 CM 쌓이다</td>\n",
       "    </tr>\n",
       "    <tr>\n",
       "      <th>9127</th>\n",
       "      <td>54781</td>\n",
       "      <td>노래방 지인 성추행 외교부 사무관 불구속 입건</td>\n",
       "    </tr>\n",
       "    <tr>\n",
       "      <th>9128</th>\n",
       "      <td>54782</td>\n",
       "      <td>40년 전 부마항쟁 부산 시위 사진 2 점 최초 공개</td>\n",
       "    </tr>\n",
       "    <tr>\n",
       "      <th>9129</th>\n",
       "      <td>54783</td>\n",
       "      <td>아리랑 TV 아프리카 개발 은행 총회 개회 식 생중계</td>\n",
       "    </tr>\n",
       "    <tr>\n",
       "      <th>9130</th>\n",
       "      <td>54784</td>\n",
       "      <td>유영민 과 기 장관 강소특구 지역 혁신 중심 지원 책 강구</td>\n",
       "    </tr>\n",
       "  </tbody>\n",
       "</table>\n",
       "<p>9131 rows × 2 columns</p>\n",
       "</div>"
      ],
      "text/plain": [
       "      index                                  title\n",
       "0     45654            유튜브 내달 2일 까지 크리에이터 지원 공간 운영\n",
       "1     45655               어버이날 맑다 흐려지다 남부 지방 옅다 황사\n",
       "2     45656              내년 국가 RD 평가 때 논문 건수 반영 않다\n",
       "3     45657        김명자 신임 과총 회장 원로 젊다 과학자 지혜 모으다 것\n",
       "4     45658  회색 인간 작가 김 동식 양심 고백 등 새 소설 집 2 권 추다 간\n",
       "...     ...                                    ...\n",
       "9126  54780        인천 오후 3시 35분 대설주의보 눈 3.1 CM 쌓이다\n",
       "9127  54781              노래방 지인 성추행 외교부 사무관 불구속 입건\n",
       "9128  54782          40년 전 부마항쟁 부산 시위 사진 2 점 최초 공개\n",
       "9129  54783          아리랑 TV 아프리카 개발 은행 총회 개회 식 생중계\n",
       "9130  54784       유영민 과 기 장관 강소특구 지역 혁신 중심 지원 책 강구\n",
       "\n",
       "[9131 rows x 2 columns]"
      ]
     },
     "execution_count": 62,
     "metadata": {},
     "output_type": "execute_result"
    }
   ],
   "source": [
    "test2"
   ]
  },
  {
   "cell_type": "code",
   "execution_count": 63,
   "metadata": {},
   "outputs": [],
   "source": [
    "test2=test"
   ]
  },
  {
   "cell_type": "code",
   "execution_count": 64,
   "metadata": {},
   "outputs": [],
   "source": [
    "test2[\"title\"] = test2[\"title\"].apply(word_eda) #단어 바꾸기, 필요없는 단어 삭제 ==test2"
   ]
  },
  {
   "cell_type": "code",
   "execution_count": 65,
   "metadata": {},
   "outputs": [],
   "source": [
    "test3=test2"
   ]
  },
  {
   "cell_type": "code",
   "execution_count": 66,
   "metadata": {},
   "outputs": [],
   "source": [
    "# 조사, 어미, 구두점 제거\n",
    "def func(text):\n",
    "    clean = []\n",
    "    for word in okt.pos(text, stem=True): #어간 추출\n",
    "        if word[1] not in ['Josa', 'Eomi', 'Punctuation']: #조사, 어미, 구두점 제외 \n",
    "            clean.append(word[0])\n",
    "    \n",
    "    \n",
    "    return \" \".join(clean) \n",
    "\n",
    "test3['title'] = test3['title'].apply(lambda x : func(x)) #test3는 조사, 어미, 구두점 제거"
   ]
  },
  {
   "cell_type": "code",
   "execution_count": null,
   "metadata": {},
   "outputs": [],
   "source": []
  },
  {
   "cell_type": "code",
   "execution_count": 67,
   "metadata": {},
   "outputs": [],
   "source": [
    "import pandas as pd\n",
    "import re\n",
    "from konlpy.tag import Okt,Mecab\n",
    "from sklearn.feature_extraction.text import TfidfVectorizer\n",
    "from sklearn.model_selection import train_test_split\n",
    "from sklearn.model_selection import StratifiedKFold\n",
    "from sklearn.metrics import accuracy_score,f1_score\n",
    "from lightgbm import LGBMClassifier"
   ]
  },
  {
   "cell_type": "code",
   "execution_count": null,
   "metadata": {},
   "outputs": [],
   "source": []
  },
  {
   "cell_type": "code",
   "execution_count": 68,
   "metadata": {},
   "outputs": [
    {
     "data": {
      "text/html": [
       "<div>\n",
       "<style scoped>\n",
       "    .dataframe tbody tr th:only-of-type {\n",
       "        vertical-align: middle;\n",
       "    }\n",
       "\n",
       "    .dataframe tbody tr th {\n",
       "        vertical-align: top;\n",
       "    }\n",
       "\n",
       "    .dataframe thead th {\n",
       "        text-align: right;\n",
       "    }\n",
       "</style>\n",
       "<table border=\"1\" class=\"dataframe\">\n",
       "  <thead>\n",
       "    <tr style=\"text-align: right;\">\n",
       "      <th></th>\n",
       "      <th>index</th>\n",
       "      <th>title</th>\n",
       "      <th>topic_idx</th>\n",
       "    </tr>\n",
       "  </thead>\n",
       "  <tbody>\n",
       "    <tr>\n",
       "      <th>0</th>\n",
       "      <td>0</td>\n",
       "      <td>[인천, 핀란드, 항공기, 결항, 휴가, 철, 여행객, 분통]</td>\n",
       "      <td>4</td>\n",
       "    </tr>\n",
       "    <tr>\n",
       "      <th>1</th>\n",
       "      <td>1</td>\n",
       "      <td>[실리콘밸리, 넘어서다, 구글, 15조원, 들이다, 미국, 전역, 거점, 화]</td>\n",
       "      <td>4</td>\n",
       "    </tr>\n",
       "    <tr>\n",
       "      <th>2</th>\n",
       "      <td>2</td>\n",
       "      <td>[이란, 외무, 긴장, 완화, 해결, 책, 미국, 경제, 전쟁, 멈추다, 것]</td>\n",
       "      <td>4</td>\n",
       "    </tr>\n",
       "    <tr>\n",
       "      <th>3</th>\n",
       "      <td>3</td>\n",
       "      <td>[NYT, 클린턴, 측근, 한국, 기업, 특수, 관계, 조명, 공과, 사, 맞다, ...</td>\n",
       "      <td>4</td>\n",
       "    </tr>\n",
       "    <tr>\n",
       "      <th>4</th>\n",
       "      <td>4</td>\n",
       "      <td>[시진핑, 트럼프, 중미, 무역, 협상, 조속, 타결, 희망]</td>\n",
       "      <td>4</td>\n",
       "    </tr>\n",
       "    <tr>\n",
       "      <th>...</th>\n",
       "      <td>...</td>\n",
       "      <td>...</td>\n",
       "      <td>...</td>\n",
       "    </tr>\n",
       "    <tr>\n",
       "      <th>45649</th>\n",
       "      <td>45649</td>\n",
       "      <td>[KB, 금융, 미국, IB, 스티펠, 제휴, 선진국, 시장, 공략]</td>\n",
       "      <td>1</td>\n",
       "    </tr>\n",
       "    <tr>\n",
       "      <th>45650</th>\n",
       "      <td>45650</td>\n",
       "      <td>[서울시, 교육청, 신종, 코로나, 확산, 개학, 연기, 그리고, 휴업, 검토]</td>\n",
       "      <td>2</td>\n",
       "    </tr>\n",
       "    <tr>\n",
       "      <th>45651</th>\n",
       "      <td>45651</td>\n",
       "      <td>[키우다, 증권, 2020, 키우다, 영웅, 전, 실전, 투자, 대회]</td>\n",
       "      <td>1</td>\n",
       "    </tr>\n",
       "    <tr>\n",
       "      <th>45652</th>\n",
       "      <td>45652</td>\n",
       "      <td>[답변, 하다, 배, 기동, 국립, 중앙, 박물관, 장]</td>\n",
       "      <td>2</td>\n",
       "    </tr>\n",
       "    <tr>\n",
       "      <th>45653</th>\n",
       "      <td>45653</td>\n",
       "      <td>[2020, 한국, 인터넷, 기자, 상, 시상식, 내달, 1일, 개최, 특별상, 김성후]</td>\n",
       "      <td>2</td>\n",
       "    </tr>\n",
       "  </tbody>\n",
       "</table>\n",
       "<p>45654 rows × 3 columns</p>\n",
       "</div>"
      ],
      "text/plain": [
       "       index                                              title  topic_idx\n",
       "0          0                 [인천, 핀란드, 항공기, 결항, 휴가, 철, 여행객, 분통]          4\n",
       "1          1        [실리콘밸리, 넘어서다, 구글, 15조원, 들이다, 미국, 전역, 거점, 화]          4\n",
       "2          2        [이란, 외무, 긴장, 완화, 해결, 책, 미국, 경제, 전쟁, 멈추다, 것]          4\n",
       "3          3  [NYT, 클린턴, 측근, 한국, 기업, 특수, 관계, 조명, 공과, 사, 맞다, ...          4\n",
       "4          4                 [시진핑, 트럼프, 중미, 무역, 협상, 조속, 타결, 희망]          4\n",
       "...      ...                                                ...        ...\n",
       "45649  45649             [KB, 금융, 미국, IB, 스티펠, 제휴, 선진국, 시장, 공략]          1\n",
       "45650  45650       [서울시, 교육청, 신종, 코로나, 확산, 개학, 연기, 그리고, 휴업, 검토]          2\n",
       "45651  45651            [키우다, 증권, 2020, 키우다, 영웅, 전, 실전, 투자, 대회]          1\n",
       "45652  45652                    [답변, 하다, 배, 기동, 국립, 중앙, 박물관, 장]          2\n",
       "45653  45653  [2020, 한국, 인터넷, 기자, 상, 시상식, 내달, 1일, 개최, 특별상, 김성후]          2\n",
       "\n",
       "[45654 rows x 3 columns]"
      ]
     },
     "execution_count": 68,
     "metadata": {},
     "output_type": "execute_result"
    }
   ],
   "source": [
    "train33"
   ]
  },
  {
   "cell_type": "code",
   "execution_count": 75,
   "metadata": {
    "scrolled": true
   },
   "outputs": [],
   "source": [
    "from pprint import pprint"
   ]
  },
  {
   "cell_type": "code",
   "execution_count": 73,
   "metadata": {},
   "outputs": [
    {
     "data": {
      "text/html": [
       "<div>\n",
       "<style scoped>\n",
       "    .dataframe tbody tr th:only-of-type {\n",
       "        vertical-align: middle;\n",
       "    }\n",
       "\n",
       "    .dataframe tbody tr th {\n",
       "        vertical-align: top;\n",
       "    }\n",
       "\n",
       "    .dataframe thead th {\n",
       "        text-align: right;\n",
       "    }\n",
       "</style>\n",
       "<table border=\"1\" class=\"dataframe\">\n",
       "  <thead>\n",
       "    <tr style=\"text-align: right;\">\n",
       "      <th></th>\n",
       "      <th>index</th>\n",
       "      <th>title</th>\n",
       "      <th>topic_idx</th>\n",
       "    </tr>\n",
       "  </thead>\n",
       "  <tbody>\n",
       "    <tr>\n",
       "      <th>0</th>\n",
       "      <td>0</td>\n",
       "      <td>인천 핀란드 항공기 결항 휴가 철 여행객 분통</td>\n",
       "      <td>4</td>\n",
       "    </tr>\n",
       "    <tr>\n",
       "      <th>1</th>\n",
       "      <td>1</td>\n",
       "      <td>실리콘밸리 넘어서다 구글 15조원 들이다 미국 전역 거점 화</td>\n",
       "      <td>4</td>\n",
       "    </tr>\n",
       "    <tr>\n",
       "      <th>2</th>\n",
       "      <td>2</td>\n",
       "      <td>이란 외무 긴장 완화 해결 책 미국 경제 전쟁 멈추다 것</td>\n",
       "      <td>4</td>\n",
       "    </tr>\n",
       "    <tr>\n",
       "      <th>3</th>\n",
       "      <td>3</td>\n",
       "      <td>NYT 클린턴 측근 한국 기업 특수 관계 조명 공과 사 맞다 물리다</td>\n",
       "      <td>4</td>\n",
       "    </tr>\n",
       "    <tr>\n",
       "      <th>4</th>\n",
       "      <td>4</td>\n",
       "      <td>시진핑 트럼프 중미 무역 협상 조속 타결 희망</td>\n",
       "      <td>4</td>\n",
       "    </tr>\n",
       "    <tr>\n",
       "      <th>...</th>\n",
       "      <td>...</td>\n",
       "      <td>...</td>\n",
       "      <td>...</td>\n",
       "    </tr>\n",
       "    <tr>\n",
       "      <th>45649</th>\n",
       "      <td>45649</td>\n",
       "      <td>KB 금융 미국 IB 스티펠 제휴 선진국 시장 공략</td>\n",
       "      <td>1</td>\n",
       "    </tr>\n",
       "    <tr>\n",
       "      <th>45650</th>\n",
       "      <td>45650</td>\n",
       "      <td>서울시 교육청 신종 코로나 확산 개학 연기 그리고 휴업 검토</td>\n",
       "      <td>2</td>\n",
       "    </tr>\n",
       "    <tr>\n",
       "      <th>45651</th>\n",
       "      <td>45651</td>\n",
       "      <td>키우다 증권 2020 키우다 영웅 전 실전 투자 대회</td>\n",
       "      <td>1</td>\n",
       "    </tr>\n",
       "    <tr>\n",
       "      <th>45652</th>\n",
       "      <td>45652</td>\n",
       "      <td>답변 하다 배 기동 국립 중앙 박물관 장</td>\n",
       "      <td>2</td>\n",
       "    </tr>\n",
       "    <tr>\n",
       "      <th>45653</th>\n",
       "      <td>45653</td>\n",
       "      <td>2020 한국 인터넷 기자 상 시상식 내달 1일 개최 특별상 김성후</td>\n",
       "      <td>2</td>\n",
       "    </tr>\n",
       "  </tbody>\n",
       "</table>\n",
       "<p>45654 rows × 3 columns</p>\n",
       "</div>"
      ],
      "text/plain": [
       "       index                                  title  topic_idx\n",
       "0          0              인천 핀란드 항공기 결항 휴가 철 여행객 분통          4\n",
       "1          1      실리콘밸리 넘어서다 구글 15조원 들이다 미국 전역 거점 화          4\n",
       "2          2        이란 외무 긴장 완화 해결 책 미국 경제 전쟁 멈추다 것          4\n",
       "3          3  NYT 클린턴 측근 한국 기업 특수 관계 조명 공과 사 맞다 물리다          4\n",
       "4          4              시진핑 트럼프 중미 무역 협상 조속 타결 희망          4\n",
       "...      ...                                    ...        ...\n",
       "45649  45649           KB 금융 미국 IB 스티펠 제휴 선진국 시장 공략          1\n",
       "45650  45650      서울시 교육청 신종 코로나 확산 개학 연기 그리고 휴업 검토          2\n",
       "45651  45651          키우다 증권 2020 키우다 영웅 전 실전 투자 대회          1\n",
       "45652  45652                 답변 하다 배 기동 국립 중앙 박물관 장          2\n",
       "45653  45653  2020 한국 인터넷 기자 상 시상식 내달 1일 개최 특별상 김성후          2\n",
       "\n",
       "[45654 rows x 3 columns]"
      ]
     },
     "execution_count": 73,
     "metadata": {},
     "output_type": "execute_result"
    }
   ],
   "source": [
    "train3"
   ]
  },
  {
   "cell_type": "code",
   "execution_count": 118,
   "metadata": {},
   "outputs": [
    {
     "data": {
      "text/html": [
       "<div>\n",
       "<style scoped>\n",
       "    .dataframe tbody tr th:only-of-type {\n",
       "        vertical-align: middle;\n",
       "    }\n",
       "\n",
       "    .dataframe tbody tr th {\n",
       "        vertical-align: top;\n",
       "    }\n",
       "\n",
       "    .dataframe thead th {\n",
       "        text-align: right;\n",
       "    }\n",
       "</style>\n",
       "<table border=\"1\" class=\"dataframe\">\n",
       "  <thead>\n",
       "    <tr style=\"text-align: right;\">\n",
       "      <th></th>\n",
       "      <th>index</th>\n",
       "      <th>title</th>\n",
       "      <th>topic_idx</th>\n",
       "    </tr>\n",
       "  </thead>\n",
       "  <tbody>\n",
       "    <tr>\n",
       "      <th>0</th>\n",
       "      <td>0</td>\n",
       "      <td>인천 핀란드 항공기 결항 휴가 철 여행객 분통</td>\n",
       "      <td>4</td>\n",
       "    </tr>\n",
       "    <tr>\n",
       "      <th>1</th>\n",
       "      <td>1</td>\n",
       "      <td>실리콘밸리 넘어서다 구글 15조원 들이다 미국 전역 거점 화</td>\n",
       "      <td>4</td>\n",
       "    </tr>\n",
       "    <tr>\n",
       "      <th>2</th>\n",
       "      <td>2</td>\n",
       "      <td>이란 외무 긴장 완화 해결 책 미국 경제 전쟁 멈추다 것</td>\n",
       "      <td>4</td>\n",
       "    </tr>\n",
       "    <tr>\n",
       "      <th>3</th>\n",
       "      <td>3</td>\n",
       "      <td>NYT 클린턴 측근 한국 기업 특수 관계 조명 공과 사 맞다 물리다</td>\n",
       "      <td>4</td>\n",
       "    </tr>\n",
       "    <tr>\n",
       "      <th>4</th>\n",
       "      <td>4</td>\n",
       "      <td>시진핑 트럼프 중미 무역 협상 조속 타결 희망</td>\n",
       "      <td>4</td>\n",
       "    </tr>\n",
       "  </tbody>\n",
       "</table>\n",
       "</div>"
      ],
      "text/plain": [
       "   index                                  title  topic_idx\n",
       "0      0              인천 핀란드 항공기 결항 휴가 철 여행객 분통          4\n",
       "1      1      실리콘밸리 넘어서다 구글 15조원 들이다 미국 전역 거점 화          4\n",
       "2      2        이란 외무 긴장 완화 해결 책 미국 경제 전쟁 멈추다 것          4\n",
       "3      3  NYT 클린턴 측근 한국 기업 특수 관계 조명 공과 사 맞다 물리다          4\n",
       "4      4              시진핑 트럼프 중미 무역 협상 조속 타결 희망          4"
      ]
     },
     "execution_count": 118,
     "metadata": {},
     "output_type": "execute_result"
    }
   ],
   "source": [
    "train3.head()"
   ]
  },
  {
   "cell_type": "code",
   "execution_count": 124,
   "metadata": {},
   "outputs": [
    {
     "data": {
      "text/plain": [
       "array([[0., 0., 0., ..., 0., 0., 0.],\n",
       "       [0., 0., 0., ..., 0., 0., 0.],\n",
       "       [0., 0., 0., ..., 0., 0., 0.],\n",
       "       ...,\n",
       "       [0., 0., 0., ..., 0., 0., 0.],\n",
       "       [0., 0., 0., ..., 0., 0., 0.],\n",
       "       [0., 0., 0., ..., 0., 0., 0.]])"
      ]
     },
     "execution_count": 124,
     "metadata": {},
     "output_type": "execute_result"
    }
   ],
   "source": [
    "tfidf_vect.transform(train3['title']).toarray()"
   ]
  },
  {
   "cell_type": "code",
   "execution_count": 120,
   "metadata": {},
   "outputs": [
    {
     "data": {
      "text/plain": [
       "(45654,)"
      ]
     },
     "execution_count": 120,
     "metadata": {},
     "output_type": "execute_result"
    }
   ],
   "source": [
    "train3['title'].shape"
   ]
  },
  {
   "cell_type": "code",
   "execution_count": 94,
   "metadata": {},
   "outputs": [
    {
     "data": {
      "text/html": [
       "<div>\n",
       "<style scoped>\n",
       "    .dataframe tbody tr th:only-of-type {\n",
       "        vertical-align: middle;\n",
       "    }\n",
       "\n",
       "    .dataframe tbody tr th {\n",
       "        vertical-align: top;\n",
       "    }\n",
       "\n",
       "    .dataframe thead th {\n",
       "        text-align: right;\n",
       "    }\n",
       "</style>\n",
       "<table border=\"1\" class=\"dataframe\">\n",
       "  <thead>\n",
       "    <tr style=\"text-align: right;\">\n",
       "      <th></th>\n",
       "      <th>index</th>\n",
       "      <th>title</th>\n",
       "      <th>topic_idx</th>\n",
       "    </tr>\n",
       "  </thead>\n",
       "  <tbody>\n",
       "    <tr>\n",
       "      <th>0</th>\n",
       "      <td>0</td>\n",
       "      <td>인천 핀란드 항공기 결항 휴가 철 여행객 분통</td>\n",
       "      <td>4</td>\n",
       "    </tr>\n",
       "    <tr>\n",
       "      <th>1</th>\n",
       "      <td>1</td>\n",
       "      <td>실리콘밸리 넘어서다 구글 15조원 들이다 미국 전역 거점 화</td>\n",
       "      <td>4</td>\n",
       "    </tr>\n",
       "    <tr>\n",
       "      <th>2</th>\n",
       "      <td>2</td>\n",
       "      <td>이란 외무 긴장 완화 해결 책 미국 경제 전쟁 멈추다 것</td>\n",
       "      <td>4</td>\n",
       "    </tr>\n",
       "    <tr>\n",
       "      <th>3</th>\n",
       "      <td>3</td>\n",
       "      <td>NYT 클린턴 측근 한국 기업 특수 관계 조명 공과 사 맞다 물리다</td>\n",
       "      <td>4</td>\n",
       "    </tr>\n",
       "    <tr>\n",
       "      <th>4</th>\n",
       "      <td>4</td>\n",
       "      <td>시진핑 트럼프 중미 무역 협상 조속 타결 희망</td>\n",
       "      <td>4</td>\n",
       "    </tr>\n",
       "    <tr>\n",
       "      <th>...</th>\n",
       "      <td>...</td>\n",
       "      <td>...</td>\n",
       "      <td>...</td>\n",
       "    </tr>\n",
       "    <tr>\n",
       "      <th>45649</th>\n",
       "      <td>45649</td>\n",
       "      <td>KB 금융 미국 IB 스티펠 제휴 선진국 시장 공략</td>\n",
       "      <td>1</td>\n",
       "    </tr>\n",
       "    <tr>\n",
       "      <th>45650</th>\n",
       "      <td>45650</td>\n",
       "      <td>서울시 교육청 신종 코로나 확산 개학 연기 그리고 휴업 검토</td>\n",
       "      <td>2</td>\n",
       "    </tr>\n",
       "    <tr>\n",
       "      <th>45651</th>\n",
       "      <td>45651</td>\n",
       "      <td>키우다 증권 2020 키우다 영웅 전 실전 투자 대회</td>\n",
       "      <td>1</td>\n",
       "    </tr>\n",
       "    <tr>\n",
       "      <th>45652</th>\n",
       "      <td>45652</td>\n",
       "      <td>답변 하다 배 기동 국립 중앙 박물관 장</td>\n",
       "      <td>2</td>\n",
       "    </tr>\n",
       "    <tr>\n",
       "      <th>45653</th>\n",
       "      <td>45653</td>\n",
       "      <td>2020 한국 인터넷 기자 상 시상식 내달 1일 개최 특별상 김성후</td>\n",
       "      <td>2</td>\n",
       "    </tr>\n",
       "  </tbody>\n",
       "</table>\n",
       "<p>45654 rows × 3 columns</p>\n",
       "</div>"
      ],
      "text/plain": [
       "       index                                  title  topic_idx\n",
       "0          0              인천 핀란드 항공기 결항 휴가 철 여행객 분통          4\n",
       "1          1      실리콘밸리 넘어서다 구글 15조원 들이다 미국 전역 거점 화          4\n",
       "2          2        이란 외무 긴장 완화 해결 책 미국 경제 전쟁 멈추다 것          4\n",
       "3          3  NYT 클린턴 측근 한국 기업 특수 관계 조명 공과 사 맞다 물리다          4\n",
       "4          4              시진핑 트럼프 중미 무역 협상 조속 타결 희망          4\n",
       "...      ...                                    ...        ...\n",
       "45649  45649           KB 금융 미국 IB 스티펠 제휴 선진국 시장 공략          1\n",
       "45650  45650      서울시 교육청 신종 코로나 확산 개학 연기 그리고 휴업 검토          2\n",
       "45651  45651          키우다 증권 2020 키우다 영웅 전 실전 투자 대회          1\n",
       "45652  45652                 답변 하다 배 기동 국립 중앙 박물관 장          2\n",
       "45653  45653  2020 한국 인터넷 기자 상 시상식 내달 1일 개최 특별상 김성후          2\n",
       "\n",
       "[45654 rows x 3 columns]"
      ]
     },
     "execution_count": 94,
     "metadata": {},
     "output_type": "execute_result"
    }
   ],
   "source": [
    "train33"
   ]
  },
  {
   "cell_type": "code",
   "execution_count": null,
   "metadata": {},
   "outputs": [],
   "source": []
  },
  {
   "cell_type": "code",
   "execution_count": 95,
   "metadata": {},
   "outputs": [
    {
     "name": "stderr",
     "output_type": "stream",
     "text": [
      "C:\\Users\\lsj70\\Anaconda3\\lib\\site-packages\\sklearn\\feature_extraction\\text.py:489: UserWarning: The parameter 'token_pattern' will not be used since 'tokenizer' is not None'\n",
      "  warnings.warn(\"The parameter 'token_pattern' will not be used\"\n"
     ]
    }
   ],
   "source": [
    "# tf-idf를 이용한 벡터화\n",
    "def split(text):\n",
    "    tokens_ko = text.split()\n",
    "    return tokens_ko\n",
    "\n",
    "tfidf_vect = TfidfVectorizer(tokenizer=split)\n",
    "tfidf_vect.fit(train3['title'])\n",
    "tfidf_matrix_train = tfidf_vect.transform(train3['title'])"
   ]
  },
  {
   "cell_type": "code",
   "execution_count": 96,
   "metadata": {},
   "outputs": [
    {
     "data": {
      "text/plain": [
       "<45654x30316 sparse matrix of type '<class 'numpy.float64'>'\n",
       "\twith 430265 stored elements in Compressed Sparse Row format>"
      ]
     },
     "execution_count": 96,
     "metadata": {},
     "output_type": "execute_result"
    }
   ],
   "source": [
    "tfidf_matrix_train"
   ]
  },
  {
   "cell_type": "code",
   "execution_count": 97,
   "metadata": {},
   "outputs": [],
   "source": [
    "# train/valid 데이터 셋 나누기.\n",
    "def split_dataset(tfidf,df):\n",
    "    X_data = tfidf\n",
    "    y_data = df['topic_idx']\n",
    "\n",
    "    # stratify=y_data Stratified 기반 분할, train 데이터의 30%를 평가 데이터 셋으로 사용. (70% 데이터 학습에 사용)\n",
    "    X_train, X_test, y_train, y_test = \\\n",
    "    train_test_split(X_data, y_data, test_size=0.3, random_state=42, stratify=y_data)\n",
    "\n",
    "    \n",
    "    return (X_train, X_test, y_train, y_test)\n",
    "\n",
    "X_train, X_test, y_train, y_test = split_dataset(tfidf_matrix_train,train)"
   ]
  },
  {
   "cell_type": "markdown",
   "metadata": {},
   "source": [
    "# LGBM"
   ]
  },
  {
   "cell_type": "code",
   "execution_count": 98,
   "metadata": {},
   "outputs": [
    {
     "data": {
      "text/plain": [
       "LGBMClassifier(random_state=42)"
      ]
     },
     "execution_count": 98,
     "metadata": {},
     "output_type": "execute_result"
    }
   ],
   "source": [
    "lgbm = LGBMClassifier(random_state = 42)\n",
    "lgbm.fit(X_train,y_train)"
   ]
  },
  {
   "cell_type": "code",
   "execution_count": 99,
   "metadata": {},
   "outputs": [
    {
     "name": "stdout",
     "output_type": "stream",
     "text": [
      "정확도 0.8098123676717529\n"
     ]
    }
   ],
   "source": [
    "pred = lgbm.predict(X_test)\n",
    "accuracy = accuracy_score(y_test,pred)\n",
    "\n",
    "print('정확도', accuracy)"
   ]
  },
  {
   "cell_type": "code",
   "execution_count": 100,
   "metadata": {},
   "outputs": [],
   "source": [
    "test33=test3"
   ]
  },
  {
   "cell_type": "code",
   "execution_count": null,
   "metadata": {},
   "outputs": [],
   "source": []
  },
  {
   "cell_type": "code",
   "execution_count": null,
   "metadata": {},
   "outputs": [],
   "source": []
  },
  {
   "cell_type": "code",
   "execution_count": 115,
   "metadata": {},
   "outputs": [
    {
     "data": {
      "text/plain": [
       "pandas.core.series.Series"
      ]
     },
     "execution_count": 115,
     "metadata": {},
     "output_type": "execute_result"
    }
   ],
   "source": []
  },
  {
   "cell_type": "code",
   "execution_count": 116,
   "metadata": {},
   "outputs": [
    {
     "data": {
      "text/plain": [
       "pandas.core.series.Series"
      ]
     },
     "execution_count": 116,
     "metadata": {},
     "output_type": "execute_result"
    }
   ],
   "source": []
  },
  {
   "cell_type": "code",
   "execution_count": null,
   "metadata": {},
   "outputs": [],
   "source": []
  },
  {
   "cell_type": "code",
   "execution_count": null,
   "metadata": {},
   "outputs": [],
   "source": []
  },
  {
   "cell_type": "code",
   "execution_count": 101,
   "metadata": {},
   "outputs": [],
   "source": [
    "test3['title'] = test3['title'].apply(lambda x : func(x)) "
   ]
  },
  {
   "cell_type": "code",
   "execution_count": 102,
   "metadata": {},
   "outputs": [],
   "source": [
    "tfidf_matrix_test = tfidf_vect.transform(test3['title'])"
   ]
  },
  {
   "cell_type": "code",
   "execution_count": 103,
   "metadata": {},
   "outputs": [],
   "source": [
    "pred = lgbm.predict(tfidf_matrix_test)"
   ]
  },
  {
   "cell_type": "code",
   "execution_count": 106,
   "metadata": {},
   "outputs": [
    {
     "data": {
      "text/html": [
       "<div>\n",
       "<style scoped>\n",
       "    .dataframe tbody tr th:only-of-type {\n",
       "        vertical-align: middle;\n",
       "    }\n",
       "\n",
       "    .dataframe tbody tr th {\n",
       "        vertical-align: top;\n",
       "    }\n",
       "\n",
       "    .dataframe thead th {\n",
       "        text-align: right;\n",
       "    }\n",
       "</style>\n",
       "<table border=\"1\" class=\"dataframe\">\n",
       "  <thead>\n",
       "    <tr style=\"text-align: right;\">\n",
       "      <th></th>\n",
       "      <th>index</th>\n",
       "      <th>topic_idx</th>\n",
       "    </tr>\n",
       "  </thead>\n",
       "  <tbody>\n",
       "    <tr>\n",
       "      <th>0</th>\n",
       "      <td>45654</td>\n",
       "      <td>2</td>\n",
       "    </tr>\n",
       "    <tr>\n",
       "      <th>1</th>\n",
       "      <td>45655</td>\n",
       "      <td>3</td>\n",
       "    </tr>\n",
       "    <tr>\n",
       "      <th>2</th>\n",
       "      <td>45656</td>\n",
       "      <td>2</td>\n",
       "    </tr>\n",
       "    <tr>\n",
       "      <th>3</th>\n",
       "      <td>45657</td>\n",
       "      <td>2</td>\n",
       "    </tr>\n",
       "    <tr>\n",
       "      <th>4</th>\n",
       "      <td>45658</td>\n",
       "      <td>3</td>\n",
       "    </tr>\n",
       "  </tbody>\n",
       "</table>\n",
       "</div>"
      ],
      "text/plain": [
       "   index  topic_idx\n",
       "0  45654          2\n",
       "1  45655          3\n",
       "2  45656          2\n",
       "3  45657          2\n",
       "4  45658          3"
      ]
     },
     "execution_count": 106,
     "metadata": {},
     "output_type": "execute_result"
    }
   ],
   "source": [
    "submission['topic_idx'] = pred\n",
    "submission.head()"
   ]
  },
  {
   "cell_type": "code",
   "execution_count": 108,
   "metadata": {},
   "outputs": [],
   "source": [
    "submission.to_csv('news_submission1.csv',index = False)"
   ]
  },
  {
   "cell_type": "markdown",
   "metadata": {},
   "source": [
    "# Logistic Regresion"
   ]
  },
  {
   "cell_type": "code",
   "execution_count": 141,
   "metadata": {
    "scrolled": true
   },
   "outputs": [
    {
     "name": "stdout",
     "output_type": "stream",
     "text": [
      "CountVectorized Logistic Regression의 예측 정확도는 0.839\n"
     ]
    },
    {
     "name": "stderr",
     "output_type": "stream",
     "text": [
      "C:\\ProgramData\\Anaconda3\\lib\\site-packages\\sklearn\\linear_model\\_logistic.py:762: ConvergenceWarning: lbfgs failed to converge (status=1):\n",
      "STOP: TOTAL NO. of ITERATIONS REACHED LIMIT.\n",
      "\n",
      "Increase the number of iterations (max_iter) or scale the data as shown in:\n",
      "    https://scikit-learn.org/stable/modules/preprocessing.html\n",
      "Please also refer to the documentation for alternative solver options:\n",
      "    https://scikit-learn.org/stable/modules/linear_model.html#logistic-regression\n",
      "  n_iter_i = _check_optimize_result(\n"
     ]
    }
   ],
   "source": [
    "from sklearn.linear_model import LogisticRegression\n",
    "from sklearn.metrics import accuracy_score\n",
    "\n",
    "# Logistic Regresion을 이용해 학습/예측/평가 수행 \n",
    "lr_clf = LogisticRegression()\n",
    "lr_clf.fit(X_train, y_train)\n",
    "pred = lr_clf.predict(X_test)\n",
    "\n",
    "print('CountVectorized Logistic Regression의 예측 정확도는 {0:.3f}'.format(accuracy_score(y_test, pred)))"
   ]
  },
  {
   "cell_type": "code",
   "execution_count": 142,
   "metadata": {},
   "outputs": [],
   "source": [
    "pred = lr_clf.predict(tfidf_matrix_test)"
   ]
  },
  {
   "cell_type": "code",
   "execution_count": 143,
   "metadata": {},
   "outputs": [
    {
     "data": {
      "text/html": [
       "<div>\n",
       "<style scoped>\n",
       "    .dataframe tbody tr th:only-of-type {\n",
       "        vertical-align: middle;\n",
       "    }\n",
       "\n",
       "    .dataframe tbody tr th {\n",
       "        vertical-align: top;\n",
       "    }\n",
       "\n",
       "    .dataframe thead th {\n",
       "        text-align: right;\n",
       "    }\n",
       "</style>\n",
       "<table border=\"1\" class=\"dataframe\">\n",
       "  <thead>\n",
       "    <tr style=\"text-align: right;\">\n",
       "      <th></th>\n",
       "      <th>index</th>\n",
       "      <th>topic_idx</th>\n",
       "    </tr>\n",
       "  </thead>\n",
       "  <tbody>\n",
       "    <tr>\n",
       "      <th>0</th>\n",
       "      <td>45654</td>\n",
       "      <td>2</td>\n",
       "    </tr>\n",
       "    <tr>\n",
       "      <th>1</th>\n",
       "      <td>45655</td>\n",
       "      <td>3</td>\n",
       "    </tr>\n",
       "    <tr>\n",
       "      <th>2</th>\n",
       "      <td>45656</td>\n",
       "      <td>2</td>\n",
       "    </tr>\n",
       "    <tr>\n",
       "      <th>3</th>\n",
       "      <td>45657</td>\n",
       "      <td>2</td>\n",
       "    </tr>\n",
       "    <tr>\n",
       "      <th>4</th>\n",
       "      <td>45658</td>\n",
       "      <td>3</td>\n",
       "    </tr>\n",
       "  </tbody>\n",
       "</table>\n",
       "</div>"
      ],
      "text/plain": [
       "   index  topic_idx\n",
       "0  45654          2\n",
       "1  45655          3\n",
       "2  45656          2\n",
       "3  45657          2\n",
       "4  45658          3"
      ]
     },
     "execution_count": 143,
     "metadata": {},
     "output_type": "execute_result"
    }
   ],
   "source": [
    "submission['topic_idx'] = pred\n",
    "submission.head()"
   ]
  },
  {
   "cell_type": "code",
   "execution_count": 144,
   "metadata": {},
   "outputs": [],
   "source": [
    "submission.to_csv('news_submission2.csv',index = False)"
   ]
  },
  {
   "cell_type": "code",
   "execution_count": null,
   "metadata": {},
   "outputs": [],
   "source": [
    "#파라미터 튜닝"
   ]
  },
  {
   "cell_type": "code",
   "execution_count": 145,
   "metadata": {},
   "outputs": [
    {
     "name": "stdout",
     "output_type": "stream",
     "text": [
      "CountVectorized Logistic Regression의 예측 정확도는 0.825\n"
     ]
    },
    {
     "name": "stderr",
     "output_type": "stream",
     "text": [
      "C:\\ProgramData\\Anaconda3\\lib\\site-packages\\sklearn\\linear_model\\_logistic.py:762: ConvergenceWarning: lbfgs failed to converge (status=1):\n",
      "STOP: TOTAL NO. of ITERATIONS REACHED LIMIT.\n",
      "\n",
      "Increase the number of iterations (max_iter) or scale the data as shown in:\n",
      "    https://scikit-learn.org/stable/modules/preprocessing.html\n",
      "Please also refer to the documentation for alternative solver options:\n",
      "    https://scikit-learn.org/stable/modules/linear_model.html#logistic-regression\n",
      "  n_iter_i = _check_optimize_result(\n"
     ]
    }
   ],
   "source": [
    "# Logistic Regresion을 이용해 학습/예측/평가 수행 \n",
    "lr_clf = LogisticRegression(C=100)\n",
    "lr_clf.fit(X_train, y_train)\n",
    "pred = lr_clf.predict(X_test)\n",
    "\n",
    "print('CountVectorized Logistic Regression의 예측 정확도는 {0:.3f}'.format(accuracy_score(y_test, pred)))"
   ]
  },
  {
   "cell_type": "code",
   "execution_count": 146,
   "metadata": {},
   "outputs": [
    {
     "name": "stdout",
     "output_type": "stream",
     "text": [
      "CountVectorized Logistic Regression의 예측 정확도는 0.796\n"
     ]
    }
   ],
   "source": [
    "# Logistic Regresion을 이용해 학습/예측/평가 수행 \n",
    "lr_clf = LogisticRegression(C=0.1)\n",
    "lr_clf.fit(X_train, y_train)\n",
    "pred = lr_clf.predict(X_test)\n",
    "\n",
    "print('CountVectorized Logistic Regression의 예측 정확도는 {0:.3f}'.format(accuracy_score(y_test, pred)))"
   ]
  },
  {
   "cell_type": "code",
   "execution_count": 147,
   "metadata": {},
   "outputs": [
    {
     "name": "stdout",
     "output_type": "stream",
     "text": [
      "CountVectorized Logistic Regression의 예측 정확도는 0.839\n"
     ]
    },
    {
     "name": "stderr",
     "output_type": "stream",
     "text": [
      "C:\\ProgramData\\Anaconda3\\lib\\site-packages\\sklearn\\linear_model\\_logistic.py:762: ConvergenceWarning: lbfgs failed to converge (status=1):\n",
      "STOP: TOTAL NO. of ITERATIONS REACHED LIMIT.\n",
      "\n",
      "Increase the number of iterations (max_iter) or scale the data as shown in:\n",
      "    https://scikit-learn.org/stable/modules/preprocessing.html\n",
      "Please also refer to the documentation for alternative solver options:\n",
      "    https://scikit-learn.org/stable/modules/linear_model.html#logistic-regression\n",
      "  n_iter_i = _check_optimize_result(\n"
     ]
    }
   ],
   "source": [
    "# Logistic Regresion을 이용해 학습/예측/평가 수행 \n",
    "lr_clf = LogisticRegression(C=1)\n",
    "lr_clf.fit(X_train, y_train)\n",
    "pred = lr_clf.predict(X_test)\n",
    "\n",
    "print('CountVectorized Logistic Regression의 예측 정확도는 {0:.3f}'.format(accuracy_score(y_test, pred)))"
   ]
  },
  {
   "cell_type": "code",
   "execution_count": 148,
   "metadata": {
    "scrolled": true
   },
   "outputs": [
    {
     "name": "stdout",
     "output_type": "stream",
     "text": [
      "CountVectorized Logistic Regression의 예측 정확도는 0.835\n"
     ]
    },
    {
     "name": "stderr",
     "output_type": "stream",
     "text": [
      "C:\\ProgramData\\Anaconda3\\lib\\site-packages\\sklearn\\linear_model\\_logistic.py:762: ConvergenceWarning: lbfgs failed to converge (status=1):\n",
      "STOP: TOTAL NO. of ITERATIONS REACHED LIMIT.\n",
      "\n",
      "Increase the number of iterations (max_iter) or scale the data as shown in:\n",
      "    https://scikit-learn.org/stable/modules/preprocessing.html\n",
      "Please also refer to the documentation for alternative solver options:\n",
      "    https://scikit-learn.org/stable/modules/linear_model.html#logistic-regression\n",
      "  n_iter_i = _check_optimize_result(\n"
     ]
    }
   ],
   "source": [
    "# Logistic Regresion을 이용해 학습/예측/평가 수행 \n",
    "lr_clf = LogisticRegression(C=10)\n",
    "lr_clf.fit(X_train, y_train)\n",
    "pred = lr_clf.predict(X_test)\n",
    "\n",
    "print('CountVectorized Logistic Regression의 예측 정확도는 {0:.3f}'.format(accuracy_score(y_test, pred)))"
   ]
  },
  {
   "cell_type": "code",
   "execution_count": 149,
   "metadata": {},
   "outputs": [
    {
     "name": "stdout",
     "output_type": "stream",
     "text": [
      "CountVectorized Logistic Regression의 예측 정확도는 0.840\n"
     ]
    },
    {
     "name": "stderr",
     "output_type": "stream",
     "text": [
      "C:\\ProgramData\\Anaconda3\\lib\\site-packages\\sklearn\\linear_model\\_logistic.py:762: ConvergenceWarning: lbfgs failed to converge (status=1):\n",
      "STOP: TOTAL NO. of ITERATIONS REACHED LIMIT.\n",
      "\n",
      "Increase the number of iterations (max_iter) or scale the data as shown in:\n",
      "    https://scikit-learn.org/stable/modules/preprocessing.html\n",
      "Please also refer to the documentation for alternative solver options:\n",
      "    https://scikit-learn.org/stable/modules/linear_model.html#logistic-regression\n",
      "  n_iter_i = _check_optimize_result(\n"
     ]
    }
   ],
   "source": [
    "# Logistic Regresion을 이용해 학습/예측/평가 수행 \n",
    "lr_clf = LogisticRegression(C=5)\n",
    "lr_clf.fit(X_train, y_train)\n",
    "pred = lr_clf.predict(X_test)\n",
    "\n",
    "print('CountVectorized Logistic Regression의 예측 정확도는 {0:.3f}'.format(accuracy_score(y_test, pred)))"
   ]
  },
  {
   "cell_type": "code",
   "execution_count": 151,
   "metadata": {
    "scrolled": true
   },
   "outputs": [
    {
     "name": "stdout",
     "output_type": "stream",
     "text": [
      "CountVectorized Logistic Regression의 예측 정확도는 0.841\n"
     ]
    },
    {
     "name": "stderr",
     "output_type": "stream",
     "text": [
      "C:\\ProgramData\\Anaconda3\\lib\\site-packages\\sklearn\\linear_model\\_logistic.py:762: ConvergenceWarning: lbfgs failed to converge (status=1):\n",
      "STOP: TOTAL NO. of ITERATIONS REACHED LIMIT.\n",
      "\n",
      "Increase the number of iterations (max_iter) or scale the data as shown in:\n",
      "    https://scikit-learn.org/stable/modules/preprocessing.html\n",
      "Please also refer to the documentation for alternative solver options:\n",
      "    https://scikit-learn.org/stable/modules/linear_model.html#logistic-regression\n",
      "  n_iter_i = _check_optimize_result(\n"
     ]
    }
   ],
   "source": [
    "# Logistic Regresion을 이용해 학습/예측/평가 수행 \n",
    "lr_clf = LogisticRegression(C=6)\n",
    "lr_clf.fit(X_train, y_train)\n",
    "pred = lr_clf.predict(X_test)\n",
    "\n",
    "print('CountVectorized Logistic Regression의 예측 정확도는 {0:.3f}'.format(accuracy_score(y_test, pred)))"
   ]
  },
  {
   "cell_type": "code",
   "execution_count": 152,
   "metadata": {},
   "outputs": [],
   "source": [
    "pred = lr_clf.predict(tfidf_matrix_test)"
   ]
  },
  {
   "cell_type": "code",
   "execution_count": 153,
   "metadata": {},
   "outputs": [
    {
     "data": {
      "text/html": [
       "<div>\n",
       "<style scoped>\n",
       "    .dataframe tbody tr th:only-of-type {\n",
       "        vertical-align: middle;\n",
       "    }\n",
       "\n",
       "    .dataframe tbody tr th {\n",
       "        vertical-align: top;\n",
       "    }\n",
       "\n",
       "    .dataframe thead th {\n",
       "        text-align: right;\n",
       "    }\n",
       "</style>\n",
       "<table border=\"1\" class=\"dataframe\">\n",
       "  <thead>\n",
       "    <tr style=\"text-align: right;\">\n",
       "      <th></th>\n",
       "      <th>index</th>\n",
       "      <th>topic_idx</th>\n",
       "    </tr>\n",
       "  </thead>\n",
       "  <tbody>\n",
       "    <tr>\n",
       "      <th>0</th>\n",
       "      <td>45654</td>\n",
       "      <td>3</td>\n",
       "    </tr>\n",
       "    <tr>\n",
       "      <th>1</th>\n",
       "      <td>45655</td>\n",
       "      <td>3</td>\n",
       "    </tr>\n",
       "    <tr>\n",
       "      <th>2</th>\n",
       "      <td>45656</td>\n",
       "      <td>6</td>\n",
       "    </tr>\n",
       "    <tr>\n",
       "      <th>3</th>\n",
       "      <td>45657</td>\n",
       "      <td>0</td>\n",
       "    </tr>\n",
       "    <tr>\n",
       "      <th>4</th>\n",
       "      <td>45658</td>\n",
       "      <td>3</td>\n",
       "    </tr>\n",
       "  </tbody>\n",
       "</table>\n",
       "</div>"
      ],
      "text/plain": [
       "   index  topic_idx\n",
       "0  45654          3\n",
       "1  45655          3\n",
       "2  45656          6\n",
       "3  45657          0\n",
       "4  45658          3"
      ]
     },
     "execution_count": 153,
     "metadata": {},
     "output_type": "execute_result"
    }
   ],
   "source": [
    "submission['topic_idx'] = pred\n",
    "submission.head()"
   ]
  },
  {
   "cell_type": "code",
   "execution_count": 154,
   "metadata": {},
   "outputs": [],
   "source": [
    "submission.to_csv('news_submission3.csv',index = False)"
   ]
  },
  {
   "cell_type": "code",
   "execution_count": null,
   "metadata": {},
   "outputs": [],
   "source": []
  },
  {
   "cell_type": "code",
   "execution_count": 161,
   "metadata": {},
   "outputs": [
    {
     "name": "stdout",
     "output_type": "stream",
     "text": [
      "CountVectorized Logistic Regression의 예측 정확도는 0.841\n"
     ]
    }
   ],
   "source": [
    "# Logistic Regresion을 이용해 학습/예측/평가 수행 \n",
    "lr_clf = LogisticRegression(C=6, max_iter=500)\n",
    "lr_clf.fit(X_train, y_train)\n",
    "pred = lr_clf.predict(X_test)\n",
    "\n",
    "print('CountVectorized Logistic Regression의 예측 정확도는 {0:.3f}'.format(accuracy_score(y_test, pred)))"
   ]
  },
  {
   "cell_type": "code",
   "execution_count": 166,
   "metadata": {},
   "outputs": [],
   "source": []
  },
  {
   "cell_type": "code",
   "execution_count": null,
   "metadata": {},
   "outputs": [],
   "source": []
  },
  {
   "cell_type": "code",
   "execution_count": null,
   "metadata": {},
   "outputs": [],
   "source": []
  },
  {
   "cell_type": "code",
   "execution_count": 176,
   "metadata": {},
   "outputs": [
    {
     "name": "stdout",
     "output_type": "stream",
     "text": [
      "CountVectorized Logistic Regression의 예측 정확도는 0.841\n"
     ]
    }
   ],
   "source": [
    "# Logistic Regresion을 이용해 학습/예측/평가 수행 \n",
    "\n",
    "lr_clf = LogisticRegression(C=6, max_iter=500, penalty='l2')\n",
    "lr_clf.fit(X_train, y_train)\n",
    "pred = lr_clf.predict(X_test)\n",
    "\n",
    "print('CountVectorized Logistic Regression의 예측 정확도는 {0:.3f}'.format(accuracy_score(y_test, pred)))"
   ]
  },
  {
   "cell_type": "code",
   "execution_count": 177,
   "metadata": {},
   "outputs": [],
   "source": [
    "pred = lr_clf.predict(tfidf_matrix_test)"
   ]
  },
  {
   "cell_type": "code",
   "execution_count": 178,
   "metadata": {},
   "outputs": [
    {
     "data": {
      "text/html": [
       "<div>\n",
       "<style scoped>\n",
       "    .dataframe tbody tr th:only-of-type {\n",
       "        vertical-align: middle;\n",
       "    }\n",
       "\n",
       "    .dataframe tbody tr th {\n",
       "        vertical-align: top;\n",
       "    }\n",
       "\n",
       "    .dataframe thead th {\n",
       "        text-align: right;\n",
       "    }\n",
       "</style>\n",
       "<table border=\"1\" class=\"dataframe\">\n",
       "  <thead>\n",
       "    <tr style=\"text-align: right;\">\n",
       "      <th></th>\n",
       "      <th>index</th>\n",
       "      <th>topic_idx</th>\n",
       "    </tr>\n",
       "  </thead>\n",
       "  <tbody>\n",
       "    <tr>\n",
       "      <th>0</th>\n",
       "      <td>45654</td>\n",
       "      <td>3</td>\n",
       "    </tr>\n",
       "    <tr>\n",
       "      <th>1</th>\n",
       "      <td>45655</td>\n",
       "      <td>3</td>\n",
       "    </tr>\n",
       "    <tr>\n",
       "      <th>2</th>\n",
       "      <td>45656</td>\n",
       "      <td>6</td>\n",
       "    </tr>\n",
       "    <tr>\n",
       "      <th>3</th>\n",
       "      <td>45657</td>\n",
       "      <td>0</td>\n",
       "    </tr>\n",
       "    <tr>\n",
       "      <th>4</th>\n",
       "      <td>45658</td>\n",
       "      <td>3</td>\n",
       "    </tr>\n",
       "  </tbody>\n",
       "</table>\n",
       "</div>"
      ],
      "text/plain": [
       "   index  topic_idx\n",
       "0  45654          3\n",
       "1  45655          3\n",
       "2  45656          6\n",
       "3  45657          0\n",
       "4  45658          3"
      ]
     },
     "execution_count": 178,
     "metadata": {},
     "output_type": "execute_result"
    }
   ],
   "source": [
    "submission['topic_idx'] = pred\n",
    "submission.head()"
   ]
  },
  {
   "cell_type": "code",
   "execution_count": 179,
   "metadata": {},
   "outputs": [],
   "source": [
    "submission.to_csv('news_submission4.csv',index = False)"
   ]
  },
  {
   "cell_type": "code",
   "execution_count": null,
   "metadata": {},
   "outputs": [],
   "source": []
  },
  {
   "cell_type": "code",
   "execution_count": 182,
   "metadata": {},
   "outputs": [
    {
     "name": "stdout",
     "output_type": "stream",
     "text": [
      "CountVectorized Logistic Regression의 예측 정확도는 0.845\n"
     ]
    }
   ],
   "source": [
    "# Logistic Regresion을 이용해 학습/예측/평가 수행 \n",
    "\n",
    "lr_clf = LogisticRegression(C=6, max_iter=500, penalty='l2', multi_class='ovr')\n",
    "lr_clf.fit(X_train, y_train)\n",
    "pred = lr_clf.predict(X_test)\n",
    "\n",
    "print('CountVectorized Logistic Regression의 예측 정확도는 {0:.3f}'.format(accuracy_score(y_test, pred)))"
   ]
  },
  {
   "cell_type": "code",
   "execution_count": 183,
   "metadata": {},
   "outputs": [],
   "source": [
    "pred = lr_clf.predict(tfidf_matrix_test)"
   ]
  },
  {
   "cell_type": "code",
   "execution_count": 184,
   "metadata": {},
   "outputs": [
    {
     "data": {
      "text/html": [
       "<div>\n",
       "<style scoped>\n",
       "    .dataframe tbody tr th:only-of-type {\n",
       "        vertical-align: middle;\n",
       "    }\n",
       "\n",
       "    .dataframe tbody tr th {\n",
       "        vertical-align: top;\n",
       "    }\n",
       "\n",
       "    .dataframe thead th {\n",
       "        text-align: right;\n",
       "    }\n",
       "</style>\n",
       "<table border=\"1\" class=\"dataframe\">\n",
       "  <thead>\n",
       "    <tr style=\"text-align: right;\">\n",
       "      <th></th>\n",
       "      <th>index</th>\n",
       "      <th>topic_idx</th>\n",
       "    </tr>\n",
       "  </thead>\n",
       "  <tbody>\n",
       "    <tr>\n",
       "      <th>0</th>\n",
       "      <td>45654</td>\n",
       "      <td>3</td>\n",
       "    </tr>\n",
       "    <tr>\n",
       "      <th>1</th>\n",
       "      <td>45655</td>\n",
       "      <td>3</td>\n",
       "    </tr>\n",
       "    <tr>\n",
       "      <th>2</th>\n",
       "      <td>45656</td>\n",
       "      <td>6</td>\n",
       "    </tr>\n",
       "    <tr>\n",
       "      <th>3</th>\n",
       "      <td>45657</td>\n",
       "      <td>0</td>\n",
       "    </tr>\n",
       "    <tr>\n",
       "      <th>4</th>\n",
       "      <td>45658</td>\n",
       "      <td>3</td>\n",
       "    </tr>\n",
       "  </tbody>\n",
       "</table>\n",
       "</div>"
      ],
      "text/plain": [
       "   index  topic_idx\n",
       "0  45654          3\n",
       "1  45655          3\n",
       "2  45656          6\n",
       "3  45657          0\n",
       "4  45658          3"
      ]
     },
     "execution_count": 184,
     "metadata": {},
     "output_type": "execute_result"
    }
   ],
   "source": [
    "submission['topic_idx'] = pred\n",
    "submission.head()"
   ]
  },
  {
   "cell_type": "code",
   "execution_count": 185,
   "metadata": {},
   "outputs": [],
   "source": [
    "submission.to_csv('news_submission5.csv',index = False)"
   ]
  },
  {
   "cell_type": "code",
   "execution_count": null,
   "metadata": {},
   "outputs": [],
   "source": []
  },
  {
   "cell_type": "code",
   "execution_count": null,
   "metadata": {},
   "outputs": [],
   "source": []
  },
  {
   "cell_type": "code",
   "execution_count": null,
   "metadata": {},
   "outputs": [],
   "source": []
  },
  {
   "cell_type": "code",
   "execution_count": 186,
   "metadata": {},
   "outputs": [
    {
     "name": "stdout",
     "output_type": "stream",
     "text": [
      "CountVectorized Logistic Regression의 예측 정확도는 0.841\n"
     ]
    }
   ],
   "source": [
    "# Logistic Regresion을 이용해 학습/예측/평가 수행 \n",
    "\n",
    "lr_clf = LogisticRegression(C=6, max_iter=500, penalty='l2', multi_class='multinomial')\n",
    "lr_clf.fit(X_train, y_train)\n",
    "pred = lr_clf.predict(X_test)\n",
    "\n",
    "print('CountVectorized Logistic Regression의 예측 정확도는 {0:.3f}'.format(accuracy_score(y_test, pred)))"
   ]
  },
  {
   "cell_type": "code",
   "execution_count": 187,
   "metadata": {},
   "outputs": [],
   "source": [
    "pred = lr_clf.predict(tfidf_matrix_test)"
   ]
  },
  {
   "cell_type": "code",
   "execution_count": 188,
   "metadata": {},
   "outputs": [
    {
     "data": {
      "text/html": [
       "<div>\n",
       "<style scoped>\n",
       "    .dataframe tbody tr th:only-of-type {\n",
       "        vertical-align: middle;\n",
       "    }\n",
       "\n",
       "    .dataframe tbody tr th {\n",
       "        vertical-align: top;\n",
       "    }\n",
       "\n",
       "    .dataframe thead th {\n",
       "        text-align: right;\n",
       "    }\n",
       "</style>\n",
       "<table border=\"1\" class=\"dataframe\">\n",
       "  <thead>\n",
       "    <tr style=\"text-align: right;\">\n",
       "      <th></th>\n",
       "      <th>index</th>\n",
       "      <th>topic_idx</th>\n",
       "    </tr>\n",
       "  </thead>\n",
       "  <tbody>\n",
       "    <tr>\n",
       "      <th>0</th>\n",
       "      <td>45654</td>\n",
       "      <td>3</td>\n",
       "    </tr>\n",
       "    <tr>\n",
       "      <th>1</th>\n",
       "      <td>45655</td>\n",
       "      <td>3</td>\n",
       "    </tr>\n",
       "    <tr>\n",
       "      <th>2</th>\n",
       "      <td>45656</td>\n",
       "      <td>6</td>\n",
       "    </tr>\n",
       "    <tr>\n",
       "      <th>3</th>\n",
       "      <td>45657</td>\n",
       "      <td>0</td>\n",
       "    </tr>\n",
       "    <tr>\n",
       "      <th>4</th>\n",
       "      <td>45658</td>\n",
       "      <td>3</td>\n",
       "    </tr>\n",
       "  </tbody>\n",
       "</table>\n",
       "</div>"
      ],
      "text/plain": [
       "   index  topic_idx\n",
       "0  45654          3\n",
       "1  45655          3\n",
       "2  45656          6\n",
       "3  45657          0\n",
       "4  45658          3"
      ]
     },
     "execution_count": 188,
     "metadata": {},
     "output_type": "execute_result"
    }
   ],
   "source": [
    "submission['topic_idx'] = pred\n",
    "submission.head()"
   ]
  },
  {
   "cell_type": "code",
   "execution_count": 189,
   "metadata": {},
   "outputs": [],
   "source": [
    "submission.to_csv('news_submission6.csv',index = False)"
   ]
  },
  {
   "cell_type": "code",
   "execution_count": null,
   "metadata": {},
   "outputs": [],
   "source": []
  }
 ],
 "metadata": {
  "kernelspec": {
   "display_name": "Python 3",
   "language": "python",
   "name": "python3"
  },
  "language_info": {
   "codemirror_mode": {
    "name": "ipython",
    "version": 3
   },
   "file_extension": ".py",
   "mimetype": "text/x-python",
   "name": "python",
   "nbconvert_exporter": "python",
   "pygments_lexer": "ipython3",
   "version": "3.8.8"
  }
 },
 "nbformat": 4,
 "nbformat_minor": 4
}
